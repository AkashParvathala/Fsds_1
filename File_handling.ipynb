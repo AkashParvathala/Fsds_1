{
 "cells": [
  {
   "cell_type": "code",
   "execution_count": 1,
   "id": "9b2424d7",
   "metadata": {},
   "outputs": [
    {
     "data": {
      "text/plain": [
       "'C:\\\\Users\\\\akash'"
      ]
     },
     "execution_count": 1,
     "metadata": {},
     "output_type": "execute_result"
    }
   ],
   "source": [
    "pwd()"
   ]
  },
  {
   "cell_type": "code",
   "execution_count": 2,
   "id": "35e2797a",
   "metadata": {},
   "outputs": [
    {
     "name": "stderr",
     "output_type": "stream",
     "text": [
      "'ls' is not recognized as an internal or external command,\n",
      "operable program or batch file.\n"
     ]
    }
   ],
   "source": [
    "!ls"
   ]
  },
  {
   "cell_type": "code",
   "execution_count": 3,
   "id": "b5826fa9",
   "metadata": {},
   "outputs": [
    {
     "name": "stdout",
     "output_type": "stream",
     "text": [
      " Volume in drive C is Windows\n",
      " Volume Serial Number is 98FA-EFFA\n",
      "\n",
      " Directory of C:\\Users\\akash\n",
      "\n",
      "27-02-2023  02:33    <DIR>          .\n",
      "06-10-2022  12:03    <DIR>          ..\n",
      "17-02-2023  12:27             3,007 .bash_history\n",
      "14-10-2022  11:56    <DIR>          .conda\n",
      "14-10-2022  11:56                25 .condarc\n",
      "14-10-2022  11:56    <DIR>          .continuum\n",
      "09-02-2023  15:06               219 .gitconfig\n",
      "27-02-2023  02:33    <DIR>          .ipynb_checkpoints\n",
      "14-10-2022  11:50    <DIR>          .ipython\n",
      "14-10-2022  11:52    <DIR>          .jupyter\n",
      "07-12-2022  17:18    <DIR>          .keras\n",
      "10-02-2023  12:31                20 .lesshst\n",
      "17-10-2022  12:24    <DIR>          .matplotlib\n",
      "12-01-2023  11:12                19 .popsql.json\n",
      "17-10-2022  12:20                 0 .python_history\n",
      "07-12-2022  12:56    <DIR>          .spyder-py3\n",
      "08-12-2022  21:44    <DIR>          .ssh\n",
      "07-02-2023  12:09    <DIR>          .VirtualBox\n",
      "07-10-2022  14:08    <DIR>          .vscode\n",
      "22-02-2023  10:24    <DIR>          .wdm\n",
      "22-02-2023  21:37            67,811 12-02-23_scrapping.ipynb\n",
      "02-02-2023  14:56    <DIR>          agent\n",
      "24-11-2022  22:04             1,867 Algo.ipynb\n",
      "24-11-2022  14:55             5,308 alkms.ipynb\n",
      "14-10-2022  11:46    <DIR>          anaconda3\n",
      "29-10-2022  22:39           144,298 battery-report.html\n",
      "15-02-2023  22:08            29,116 Beautiful_soap.ipynb\n",
      "13-02-2023  18:09             6,327 Bounding_box.ipynb\n",
      "09-02-2023  11:27                12 c.txt\n",
      "26-10-2022  21:41             4,772 captcha.png\n",
      "07-12-2022  21:46    <DIR>          cbp-dashboard\n",
      "02-02-2023  15:08    <DIR>          cd\n",
      "06-10-2022  11:15    <DIR>          Contacts\n",
      "18-02-2023  16:18               317 data.csv\n",
      "25-10-2022  12:57            20,499 Data_Manipulation.ipynb\n",
      "25-10-2022  14:31             6,567 Data_Preprocessing.ipynb\n",
      "21-10-2022  11:40    <DIR>          dataset\n",
      "22-02-2023  15:58             4,680 details.csv\n",
      "25-10-2022  15:50    <DIR>          Documents\n",
      "22-02-2023  22:04    <DIR>          Downloads\n",
      "13-02-2023  18:02             3,237 Draw_Bounding_box.ipynb\n",
      "29-11-2022  16:37            18,124 dsa.ipynb\n",
      "05-12-2022  19:32            13,804 Dsa_1.ipynb\n",
      "06-10-2022  11:15    <DIR>          Favorites\n",
      "24-11-2022  15:11             7,265 Geometric.ipynb\n",
      "07-12-2022  14:57             5,343 Geometric_Reasoning.ipynb\n",
      "07-02-2023  14:38    <DIR>          git\n",
      "26-10-2022  15:58           371,822 Google_bing_baidu.ipynb\n",
      "27-10-2022  12:31         2,579,652 icrambler.ipynb\n",
      "13-02-2023  15:34             6,747 iliyas.ipynb\n",
      "26-10-2022  22:34    <DIR>          images\n",
      "17-02-2023  12:21           738,301 Implementation_one_scrap.ipynb\n",
      "20-10-2022  14:22    <DIR>          Jedi\n",
      "27-10-2022  12:24             4,723 Linear_Algebra.ipynb\n",
      "06-10-2022  11:15    <DIR>          Links\n",
      "28-10-2022  17:13             3,798 modified.ipynb\n",
      "28-10-2022  16:23             4,743 modified_1.ipynb\n",
      "26-10-2022  22:18           288,629 mogili\n",
      "06-10-2022  11:15    <DIR>          Music\n",
      "31-01-2023  17:36    <DIR>          myproject\n",
      "08-12-2022  10:47    <DIR>          OneDrive\n",
      "26-02-2023  14:48    <DIR>          OneDrive - Purecode Software\n",
      "13-02-2023  15:21         1,200,251 output_image.jpg\n",
      "26-10-2022  21:41                 0 page_source\n",
      "19-02-2023  15:13           175,492 pandas.ipynb\n",
      "30-01-2023  09:19    <DIR>          Pictures\n",
      "08-12-2022  12:37            28,580 pract.ipynb\n",
      "08-12-2022  12:35             7,494 Pract_Session.ipynb\n",
      "20-10-2022  17:26               477 prime.py\n",
      "07-02-2023  14:46    <DIR>          project1\n",
      "09-02-2023  14:32    <DIR>          projectdemo\n",
      "07-02-2023  14:38    <DIR>          projects\n",
      "31-10-2022  12:48             3,192 Pytorch.ipynb\n",
      "22-02-2023  14:59             4,523 result2.csv\n",
      "06-10-2022  11:15    <DIR>          Saved Games\n",
      "06-10-2022  11:24    <DIR>          Searches\n",
      "16-02-2023  14:56            55,284 Selenium_Webscrapping.ipynb\n",
      "31-01-2023  12:47    <DIR>          test\n",
      "17-02-2023  16:07         6,856,355 test.csv\n",
      "17-02-2023  11:16           153,489 test.json\n",
      "19-02-2023  14:56         6,856,355 test1.csv\n",
      "19-02-2023  14:56         6,856,197 test2.csv\n",
      "19-02-2023  14:58         6,617,174 test3.csv\n",
      "19-02-2023  14:59           698,057 test4.csv\n",
      "19-02-2023  15:01         1,203,858 test5.csv\n",
      "17-02-2023  11:06           153,489 text.txt\n",
      "14-10-2022  11:52             1,844 Untitled.ipynb\n",
      "07-12-2022  13:13                 0 untitled.txt\n",
      "14-10-2022  11:56             1,592 Untitled1.ipynb\n",
      "26-10-2022  13:14           144,130 Untitled10.ipynb\n",
      "26-10-2022  14:47         1,584,361 Untitled11.ipynb\n",
      "26-10-2022  14:49            11,376 Untitled12.ipynb\n",
      "26-10-2022  16:12               988 Untitled13.ipynb\n",
      "26-10-2022  16:32            21,312 Untitled14.ipynb\n",
      "26-10-2022  16:51             3,913 Untitled15.ipynb\n",
      "26-10-2022  16:54                72 Untitled16.ipynb\n",
      "26-10-2022  22:16             5,253 Untitled17.ipynb\n",
      "26-10-2022  22:24             3,286 Untitled18.ipynb\n",
      "30-10-2022  17:14                72 Untitled19.ipynb\n",
      "17-10-2022  10:38               589 Untitled2.ipynb\n",
      "31-10-2022  10:14                72 Untitled20.ipynb\n",
      "31-10-2022  11:14                72 Untitled21.ipynb\n",
      "03-11-2022  10:03               589 Untitled22.ipynb\n",
      "03-11-2022  12:57                72 Untitled23.ipynb\n",
      "06-11-2022  23:16            14,199 Untitled24.ipynb\n",
      "09-11-2022  21:43             4,727 Untitled25.ipynb\n",
      "10-11-2022  11:22             1,455 Untitled26.ipynb\n",
      "13-11-2022  12:52               589 Untitled27.ipynb\n",
      "13-11-2022  12:52               589 Untitled27-Copy1.ipynb\n",
      "16-11-2022  22:21             1,601 Untitled28.ipynb\n",
      "24-11-2022  15:02             5,039 Untitled29.ipynb\n",
      "20-10-2022  17:29           371,517 Untitled3.ipynb\n",
      "24-11-2022  21:26                72 Untitled30.ipynb\n",
      "25-11-2022  16:53             1,766 Untitled31.ipynb\n",
      "30-11-2022  12:56             5,017 Untitled32.ipynb\n",
      "30-11-2022  14:16               589 Untitled33.ipynb\n",
      "02-12-2022  12:37            71,090 Untitled34.ipynb\n",
      "06-12-2022  11:24               589 Untitled35.ipynb\n",
      "07-12-2022  17:21            10,300 Untitled36.ipynb\n",
      "07-12-2022  13:13                72 Untitled37.ipynb\n",
      "12-01-2023  12:15             1,260 Untitled38.ipynb\n",
      "18-01-2023  14:00               589 Untitled39.ipynb\n",
      "21-10-2022  11:39            71,975 Untitled4.ipynb\n",
      "19-01-2023  10:09               589 Untitled40.ipynb\n",
      "13-02-2023  11:54            12,352 Untitled41.ipynb\n",
      "13-02-2023  12:34            10,232 Untitled42.ipynb\n",
      "13-02-2023  13:11             2,518 Untitled43.ipynb\n",
      "13-02-2023  14:32             8,329 Untitled44.ipynb\n",
      "13-02-2023  15:34            94,593 Untitled45.ipynb\n",
      "13-02-2023  18:09             9,082 Untitled46.ipynb\n",
      "13-02-2023  16:49             5,115 Untitled47.ipynb\n",
      "13-02-2023  17:09             2,300 Untitled48.ipynb\n",
      "13-02-2023  18:15             6,552 Untitled49.ipynb\n",
      "25-10-2022  09:50            13,170 Untitled5.ipynb\n",
      "14-02-2023  10:45                72 Untitled50.ipynb\n",
      "14-02-2023  13:10             3,662 Untitled51.ipynb\n",
      "14-02-2023  15:04                72 Untitled52.ipynb\n",
      "15-02-2023  22:00           404,483 Untitled53.ipynb\n",
      "15-02-2023  22:19             7,268 Untitled54.ipynb\n",
      "16-02-2023  11:16             1,525 Untitled55.ipynb\n",
      "16-02-2023  17:51           336,753 Untitled56.ipynb\n",
      "16-02-2023  14:53             9,321 Untitled57.ipynb\n",
      "17-02-2023  16:40           239,343 Untitled58.ipynb\n",
      "17-02-2023  17:03           110,428 Untitled59.ipynb\n",
      "25-10-2022  10:01                72 Untitled6.ipynb\n",
      "18-02-2023  16:23             9,373 Untitled60.ipynb\n",
      "22-02-2023  16:24            44,960 Untitled61.ipynb\n",
      "22-02-2023  16:43               944 Untitled62.ipynb\n",
      "27-02-2023  02:33             2,851 Untitled63.ipynb\n",
      "27-02-2023  02:33                72 Untitled64.ipynb\n",
      "28-10-2022  16:06               890 Untitled7.ipynb\n",
      "26-10-2022  11:02                72 Untitled8.ipynb\n",
      "26-10-2022  12:54           232,368 Untitled9.ipynb\n",
      "17-10-2022  09:34    <DIR>          Videos\n",
      "30-01-2023  10:35            15,650 Web_scrappig.ipynb\n",
      "14-02-2023  17:04             3,164 Web_scrapping with python_crash course.ipynb\n",
      "16-02-2023  14:58            15,855 Web_Scrapping_selenium.ipynb\n",
      "14-12-2022  17:04             9,084 xml_count.ipynb\n",
      "09-11-2022  21:51             1,171 Xml_remover.ipynb\n",
      "09-02-2023  12:14                21 z.txt\n",
      "             121 File(s)     39,168,253 bytes\n",
      "              39 Dir(s)  186,219,266,048 bytes free\n"
     ]
    }
   ],
   "source": [
    "%ls"
   ]
  },
  {
   "cell_type": "code",
   "execution_count": 4,
   "id": "d43207b8",
   "metadata": {},
   "outputs": [],
   "source": [
    "f = open(\"test.txt\",\"w\")"
   ]
  },
  {
   "cell_type": "code",
   "execution_count": 5,
   "id": "53b32b5b",
   "metadata": {},
   "outputs": [
    {
     "name": "stdout",
     "output_type": "stream",
     "text": [
      " Volume in drive C is Windows\n",
      " Volume Serial Number is 98FA-EFFA\n",
      "\n",
      " Directory of C:\\Users\\akash\n",
      "\n",
      "27-02-2023  02:34    <DIR>          .\n",
      "06-10-2022  12:03    <DIR>          ..\n",
      "17-02-2023  12:27             3,007 .bash_history\n",
      "14-10-2022  11:56    <DIR>          .conda\n",
      "14-10-2022  11:56                25 .condarc\n",
      "14-10-2022  11:56    <DIR>          .continuum\n",
      "09-02-2023  15:06               219 .gitconfig\n",
      "27-02-2023  02:33    <DIR>          .ipynb_checkpoints\n",
      "14-10-2022  11:50    <DIR>          .ipython\n",
      "14-10-2022  11:52    <DIR>          .jupyter\n",
      "07-12-2022  17:18    <DIR>          .keras\n",
      "10-02-2023  12:31                20 .lesshst\n",
      "17-10-2022  12:24    <DIR>          .matplotlib\n",
      "12-01-2023  11:12                19 .popsql.json\n",
      "17-10-2022  12:20                 0 .python_history\n",
      "07-12-2022  12:56    <DIR>          .spyder-py3\n",
      "08-12-2022  21:44    <DIR>          .ssh\n",
      "07-02-2023  12:09    <DIR>          .VirtualBox\n",
      "07-10-2022  14:08    <DIR>          .vscode\n",
      "22-02-2023  10:24    <DIR>          .wdm\n",
      "22-02-2023  21:37            67,811 12-02-23_scrapping.ipynb\n",
      "02-02-2023  14:56    <DIR>          agent\n",
      "24-11-2022  22:04             1,867 Algo.ipynb\n",
      "24-11-2022  14:55             5,308 alkms.ipynb\n",
      "14-10-2022  11:46    <DIR>          anaconda3\n",
      "29-10-2022  22:39           144,298 battery-report.html\n",
      "15-02-2023  22:08            29,116 Beautiful_soap.ipynb\n",
      "13-02-2023  18:09             6,327 Bounding_box.ipynb\n",
      "09-02-2023  11:27                12 c.txt\n",
      "26-10-2022  21:41             4,772 captcha.png\n",
      "07-12-2022  21:46    <DIR>          cbp-dashboard\n",
      "02-02-2023  15:08    <DIR>          cd\n",
      "06-10-2022  11:15    <DIR>          Contacts\n",
      "18-02-2023  16:18               317 data.csv\n",
      "25-10-2022  12:57            20,499 Data_Manipulation.ipynb\n",
      "25-10-2022  14:31             6,567 Data_Preprocessing.ipynb\n",
      "21-10-2022  11:40    <DIR>          dataset\n",
      "22-02-2023  15:58             4,680 details.csv\n",
      "25-10-2022  15:50    <DIR>          Documents\n",
      "22-02-2023  22:04    <DIR>          Downloads\n",
      "13-02-2023  18:02             3,237 Draw_Bounding_box.ipynb\n",
      "29-11-2022  16:37            18,124 dsa.ipynb\n",
      "05-12-2022  19:32            13,804 Dsa_1.ipynb\n",
      "06-10-2022  11:15    <DIR>          Favorites\n",
      "24-11-2022  15:11             7,265 Geometric.ipynb\n",
      "07-12-2022  14:57             5,343 Geometric_Reasoning.ipynb\n",
      "07-02-2023  14:38    <DIR>          git\n",
      "26-10-2022  15:58           371,822 Google_bing_baidu.ipynb\n",
      "27-10-2022  12:31         2,579,652 icrambler.ipynb\n",
      "13-02-2023  15:34             6,747 iliyas.ipynb\n",
      "26-10-2022  22:34    <DIR>          images\n",
      "17-02-2023  12:21           738,301 Implementation_one_scrap.ipynb\n",
      "20-10-2022  14:22    <DIR>          Jedi\n",
      "27-10-2022  12:24             4,723 Linear_Algebra.ipynb\n",
      "06-10-2022  11:15    <DIR>          Links\n",
      "28-10-2022  17:13             3,798 modified.ipynb\n",
      "28-10-2022  16:23             4,743 modified_1.ipynb\n",
      "26-10-2022  22:18           288,629 mogili\n",
      "06-10-2022  11:15    <DIR>          Music\n",
      "31-01-2023  17:36    <DIR>          myproject\n",
      "08-12-2022  10:47    <DIR>          OneDrive\n",
      "26-02-2023  14:48    <DIR>          OneDrive - Purecode Software\n",
      "13-02-2023  15:21         1,200,251 output_image.jpg\n",
      "26-10-2022  21:41                 0 page_source\n",
      "19-02-2023  15:13           175,492 pandas.ipynb\n",
      "30-01-2023  09:19    <DIR>          Pictures\n",
      "08-12-2022  12:37            28,580 pract.ipynb\n",
      "08-12-2022  12:35             7,494 Pract_Session.ipynb\n",
      "20-10-2022  17:26               477 prime.py\n",
      "07-02-2023  14:46    <DIR>          project1\n",
      "09-02-2023  14:32    <DIR>          projectdemo\n",
      "07-02-2023  14:38    <DIR>          projects\n",
      "31-10-2022  12:48             3,192 Pytorch.ipynb\n",
      "22-02-2023  14:59             4,523 result2.csv\n",
      "06-10-2022  11:15    <DIR>          Saved Games\n",
      "06-10-2022  11:24    <DIR>          Searches\n",
      "16-02-2023  14:56            55,284 Selenium_Webscrapping.ipynb\n",
      "31-01-2023  12:47    <DIR>          test\n",
      "17-02-2023  16:07         6,856,355 test.csv\n",
      "17-02-2023  11:16           153,489 test.json\n",
      "27-02-2023  02:34                 0 test.txt\n",
      "19-02-2023  14:56         6,856,355 test1.csv\n",
      "19-02-2023  14:56         6,856,197 test2.csv\n",
      "19-02-2023  14:58         6,617,174 test3.csv\n",
      "19-02-2023  14:59           698,057 test4.csv\n",
      "19-02-2023  15:01         1,203,858 test5.csv\n",
      "17-02-2023  11:06           153,489 text.txt\n",
      "14-10-2022  11:52             1,844 Untitled.ipynb\n",
      "07-12-2022  13:13                 0 untitled.txt\n",
      "14-10-2022  11:56             1,592 Untitled1.ipynb\n",
      "26-10-2022  13:14           144,130 Untitled10.ipynb\n",
      "26-10-2022  14:47         1,584,361 Untitled11.ipynb\n",
      "26-10-2022  14:49            11,376 Untitled12.ipynb\n",
      "26-10-2022  16:12               988 Untitled13.ipynb\n",
      "26-10-2022  16:32            21,312 Untitled14.ipynb\n",
      "26-10-2022  16:51             3,913 Untitled15.ipynb\n",
      "26-10-2022  16:54                72 Untitled16.ipynb\n",
      "26-10-2022  22:16             5,253 Untitled17.ipynb\n",
      "26-10-2022  22:24             3,286 Untitled18.ipynb\n",
      "30-10-2022  17:14                72 Untitled19.ipynb\n",
      "17-10-2022  10:38               589 Untitled2.ipynb\n",
      "31-10-2022  10:14                72 Untitled20.ipynb\n",
      "31-10-2022  11:14                72 Untitled21.ipynb\n",
      "03-11-2022  10:03               589 Untitled22.ipynb\n",
      "03-11-2022  12:57                72 Untitled23.ipynb\n",
      "06-11-2022  23:16            14,199 Untitled24.ipynb\n",
      "09-11-2022  21:43             4,727 Untitled25.ipynb\n",
      "10-11-2022  11:22             1,455 Untitled26.ipynb\n",
      "13-11-2022  12:52               589 Untitled27.ipynb\n",
      "13-11-2022  12:52               589 Untitled27-Copy1.ipynb\n",
      "16-11-2022  22:21             1,601 Untitled28.ipynb\n",
      "24-11-2022  15:02             5,039 Untitled29.ipynb\n",
      "20-10-2022  17:29           371,517 Untitled3.ipynb\n",
      "24-11-2022  21:26                72 Untitled30.ipynb\n",
      "25-11-2022  16:53             1,766 Untitled31.ipynb\n",
      "30-11-2022  12:56             5,017 Untitled32.ipynb\n",
      "30-11-2022  14:16               589 Untitled33.ipynb\n",
      "02-12-2022  12:37            71,090 Untitled34.ipynb\n",
      "06-12-2022  11:24               589 Untitled35.ipynb\n",
      "07-12-2022  17:21            10,300 Untitled36.ipynb\n",
      "07-12-2022  13:13                72 Untitled37.ipynb\n",
      "12-01-2023  12:15             1,260 Untitled38.ipynb\n",
      "18-01-2023  14:00               589 Untitled39.ipynb\n",
      "21-10-2022  11:39            71,975 Untitled4.ipynb\n",
      "19-01-2023  10:09               589 Untitled40.ipynb\n",
      "13-02-2023  11:54            12,352 Untitled41.ipynb\n",
      "13-02-2023  12:34            10,232 Untitled42.ipynb\n",
      "13-02-2023  13:11             2,518 Untitled43.ipynb\n",
      "13-02-2023  14:32             8,329 Untitled44.ipynb\n",
      "13-02-2023  15:34            94,593 Untitled45.ipynb\n",
      "13-02-2023  18:09             9,082 Untitled46.ipynb\n",
      "13-02-2023  16:49             5,115 Untitled47.ipynb\n",
      "13-02-2023  17:09             2,300 Untitled48.ipynb\n",
      "13-02-2023  18:15             6,552 Untitled49.ipynb\n",
      "25-10-2022  09:50            13,170 Untitled5.ipynb\n",
      "14-02-2023  10:45                72 Untitled50.ipynb\n",
      "14-02-2023  13:10             3,662 Untitled51.ipynb\n",
      "14-02-2023  15:04                72 Untitled52.ipynb\n",
      "15-02-2023  22:00           404,483 Untitled53.ipynb\n",
      "15-02-2023  22:19             7,268 Untitled54.ipynb\n",
      "16-02-2023  11:16             1,525 Untitled55.ipynb\n",
      "16-02-2023  17:51           336,753 Untitled56.ipynb\n",
      "16-02-2023  14:53             9,321 Untitled57.ipynb\n",
      "17-02-2023  16:40           239,343 Untitled58.ipynb\n",
      "17-02-2023  17:03           110,428 Untitled59.ipynb\n",
      "25-10-2022  10:01                72 Untitled6.ipynb\n",
      "18-02-2023  16:23             9,373 Untitled60.ipynb\n",
      "22-02-2023  16:24            44,960 Untitled61.ipynb\n",
      "22-02-2023  16:43               944 Untitled62.ipynb\n",
      "27-02-2023  02:33             2,851 Untitled63.ipynb\n",
      "27-02-2023  02:33                72 Untitled64.ipynb\n",
      "28-10-2022  16:06               890 Untitled7.ipynb\n",
      "26-10-2022  11:02                72 Untitled8.ipynb\n",
      "26-10-2022  12:54           232,368 Untitled9.ipynb\n",
      "17-10-2022  09:34    <DIR>          Videos\n",
      "30-01-2023  10:35            15,650 Web_scrappig.ipynb\n",
      "14-02-2023  17:04             3,164 Web_scrapping with python_crash course.ipynb\n",
      "16-02-2023  14:58            15,855 Web_Scrapping_selenium.ipynb\n",
      "14-12-2022  17:04             9,084 xml_count.ipynb\n",
      "09-11-2022  21:51             1,171 Xml_remover.ipynb\n",
      "09-02-2023  12:14                21 z.txt\n",
      "             122 File(s)     39,168,253 bytes\n",
      "              39 Dir(s)  186,218,455,040 bytes free\n"
     ]
    }
   ],
   "source": [
    "%ls"
   ]
  },
  {
   "cell_type": "code",
   "execution_count": 8,
   "id": "3c9f921c",
   "metadata": {},
   "outputs": [],
   "source": [
    "f = open(\"text1.txt\",\"w\")\n",
    "f.write(\"This is my first line in this file\")\n",
    "f.close()"
   ]
  },
  {
   "cell_type": "code",
   "execution_count": 7,
   "id": "f95e7e3c",
   "metadata": {},
   "outputs": [
    {
     "data": {
      "text/plain": [
       "'C:\\\\Users\\\\akash'"
      ]
     },
     "execution_count": 7,
     "metadata": {},
     "output_type": "execute_result"
    }
   ],
   "source": [
    "pwd"
   ]
  },
  {
   "cell_type": "code",
   "execution_count": 9,
   "id": "7ebdf703",
   "metadata": {},
   "outputs": [
    {
     "name": "stdout",
     "output_type": "stream",
     "text": [
      "Writing test2.txt\n"
     ]
    }
   ],
   "source": [
    "%%writefile test2.txt\n",
    "This is my data which is written in this file"
   ]
  },
  {
   "cell_type": "code",
   "execution_count": 10,
   "id": "e6aa500d",
   "metadata": {},
   "outputs": [
    {
     "name": "stdout",
     "output_type": "stream",
     "text": [
      " Volume in drive C is Windows\n",
      " Volume Serial Number is 98FA-EFFA\n",
      "\n",
      " Directory of C:\\Users\\akash\n",
      "\n",
      "27-02-2023  02:44    <DIR>          .\n",
      "06-10-2022  12:03    <DIR>          ..\n",
      "17-02-2023  12:27             3,007 .bash_history\n",
      "14-10-2022  11:56    <DIR>          .conda\n",
      "14-10-2022  11:56                25 .condarc\n",
      "14-10-2022  11:56    <DIR>          .continuum\n",
      "09-02-2023  15:06               219 .gitconfig\n",
      "27-02-2023  02:44    <DIR>          .ipynb_checkpoints\n",
      "14-10-2022  11:50    <DIR>          .ipython\n",
      "14-10-2022  11:52    <DIR>          .jupyter\n",
      "07-12-2022  17:18    <DIR>          .keras\n",
      "10-02-2023  12:31                20 .lesshst\n",
      "17-10-2022  12:24    <DIR>          .matplotlib\n",
      "12-01-2023  11:12                19 .popsql.json\n",
      "17-10-2022  12:20                 0 .python_history\n",
      "07-12-2022  12:56    <DIR>          .spyder-py3\n",
      "08-12-2022  21:44    <DIR>          .ssh\n",
      "07-02-2023  12:09    <DIR>          .VirtualBox\n",
      "07-10-2022  14:08    <DIR>          .vscode\n",
      "22-02-2023  10:24    <DIR>          .wdm\n",
      "22-02-2023  21:37            67,811 12-02-23_scrapping.ipynb\n",
      "02-02-2023  14:56    <DIR>          agent\n",
      "24-11-2022  22:04             1,867 Algo.ipynb\n",
      "24-11-2022  14:55             5,308 alkms.ipynb\n",
      "14-10-2022  11:46    <DIR>          anaconda3\n",
      "29-10-2022  22:39           144,298 battery-report.html\n",
      "15-02-2023  22:08            29,116 Beautiful_soap.ipynb\n",
      "13-02-2023  18:09             6,327 Bounding_box.ipynb\n",
      "09-02-2023  11:27                12 c.txt\n",
      "26-10-2022  21:41             4,772 captcha.png\n",
      "07-12-2022  21:46    <DIR>          cbp-dashboard\n",
      "02-02-2023  15:08    <DIR>          cd\n",
      "06-10-2022  11:15    <DIR>          Contacts\n",
      "18-02-2023  16:18               317 data.csv\n",
      "25-10-2022  12:57            20,499 Data_Manipulation.ipynb\n",
      "25-10-2022  14:31             6,567 Data_Preprocessing.ipynb\n",
      "21-10-2022  11:40    <DIR>          dataset\n",
      "22-02-2023  15:58             4,680 details.csv\n",
      "25-10-2022  15:50    <DIR>          Documents\n",
      "22-02-2023  22:04    <DIR>          Downloads\n",
      "13-02-2023  18:02             3,237 Draw_Bounding_box.ipynb\n",
      "29-11-2022  16:37            18,124 dsa.ipynb\n",
      "05-12-2022  19:32            13,804 Dsa_1.ipynb\n",
      "06-10-2022  11:15    <DIR>          Favorites\n",
      "27-02-2023  02:44            22,791 File_handling.ipynb\n",
      "24-11-2022  15:11             7,265 Geometric.ipynb\n",
      "07-12-2022  14:57             5,343 Geometric_Reasoning.ipynb\n",
      "07-02-2023  14:38    <DIR>          git\n",
      "26-10-2022  15:58           371,822 Google_bing_baidu.ipynb\n",
      "27-10-2022  12:31         2,579,652 icrambler.ipynb\n",
      "13-02-2023  15:34             6,747 iliyas.ipynb\n",
      "26-10-2022  22:34    <DIR>          images\n",
      "17-02-2023  12:21           738,301 Implementation_one_scrap.ipynb\n",
      "20-10-2022  14:22    <DIR>          Jedi\n",
      "27-10-2022  12:24             4,723 Linear_Algebra.ipynb\n",
      "06-10-2022  11:15    <DIR>          Links\n",
      "28-10-2022  17:13             3,798 modified.ipynb\n",
      "28-10-2022  16:23             4,743 modified_1.ipynb\n",
      "26-10-2022  22:18           288,629 mogili\n",
      "06-10-2022  11:15    <DIR>          Music\n",
      "31-01-2023  17:36    <DIR>          myproject\n",
      "08-12-2022  10:47    <DIR>          OneDrive\n",
      "26-02-2023  14:48    <DIR>          OneDrive - Purecode Software\n",
      "13-02-2023  15:21         1,200,251 output_image.jpg\n",
      "26-10-2022  21:41                 0 page_source\n",
      "19-02-2023  15:13           175,492 pandas.ipynb\n",
      "30-01-2023  09:19    <DIR>          Pictures\n",
      "08-12-2022  12:37            28,580 pract.ipynb\n",
      "08-12-2022  12:35             7,494 Pract_Session.ipynb\n",
      "20-10-2022  17:26               477 prime.py\n",
      "07-02-2023  14:46    <DIR>          project1\n",
      "09-02-2023  14:32    <DIR>          projectdemo\n",
      "07-02-2023  14:38    <DIR>          projects\n",
      "31-10-2022  12:48             3,192 Pytorch.ipynb\n",
      "22-02-2023  14:59             4,523 result2.csv\n",
      "06-10-2022  11:15    <DIR>          Saved Games\n",
      "06-10-2022  11:24    <DIR>          Searches\n",
      "16-02-2023  14:56            55,284 Selenium_Webscrapping.ipynb\n",
      "31-01-2023  12:47    <DIR>          test\n",
      "17-02-2023  16:07         6,856,355 test.csv\n",
      "17-02-2023  11:16           153,489 test.json\n",
      "27-02-2023  02:34                 0 test.txt\n",
      "19-02-2023  14:56         6,856,355 test1.csv\n",
      "19-02-2023  14:56         6,856,197 test2.csv\n",
      "27-02-2023  02:44                47 test2.txt\n",
      "19-02-2023  14:58         6,617,174 test3.csv\n",
      "19-02-2023  14:59           698,057 test4.csv\n",
      "19-02-2023  15:01         1,203,858 test5.csv\n",
      "17-02-2023  11:06           153,489 text.txt\n",
      "27-02-2023  02:41                34 text1.txt\n",
      "14-10-2022  11:52             1,844 Untitled.ipynb\n",
      "07-12-2022  13:13                 0 untitled.txt\n",
      "14-10-2022  11:56             1,592 Untitled1.ipynb\n",
      "26-10-2022  13:14           144,130 Untitled10.ipynb\n",
      "26-10-2022  14:47         1,584,361 Untitled11.ipynb\n",
      "26-10-2022  14:49            11,376 Untitled12.ipynb\n",
      "26-10-2022  16:12               988 Untitled13.ipynb\n",
      "26-10-2022  16:32            21,312 Untitled14.ipynb\n",
      "26-10-2022  16:51             3,913 Untitled15.ipynb\n",
      "26-10-2022  16:54                72 Untitled16.ipynb\n",
      "26-10-2022  22:16             5,253 Untitled17.ipynb\n",
      "26-10-2022  22:24             3,286 Untitled18.ipynb\n",
      "30-10-2022  17:14                72 Untitled19.ipynb\n",
      "17-10-2022  10:38               589 Untitled2.ipynb\n",
      "31-10-2022  10:14                72 Untitled20.ipynb\n",
      "31-10-2022  11:14                72 Untitled21.ipynb\n",
      "03-11-2022  10:03               589 Untitled22.ipynb\n",
      "03-11-2022  12:57                72 Untitled23.ipynb\n",
      "06-11-2022  23:16            14,199 Untitled24.ipynb\n",
      "09-11-2022  21:43             4,727 Untitled25.ipynb\n",
      "10-11-2022  11:22             1,455 Untitled26.ipynb\n",
      "13-11-2022  12:52               589 Untitled27.ipynb\n",
      "13-11-2022  12:52               589 Untitled27-Copy1.ipynb\n",
      "16-11-2022  22:21             1,601 Untitled28.ipynb\n",
      "24-11-2022  15:02             5,039 Untitled29.ipynb\n",
      "20-10-2022  17:29           371,517 Untitled3.ipynb\n",
      "24-11-2022  21:26                72 Untitled30.ipynb\n",
      "25-11-2022  16:53             1,766 Untitled31.ipynb\n",
      "30-11-2022  12:56             5,017 Untitled32.ipynb\n",
      "30-11-2022  14:16               589 Untitled33.ipynb\n",
      "02-12-2022  12:37            71,090 Untitled34.ipynb\n",
      "06-12-2022  11:24               589 Untitled35.ipynb\n",
      "07-12-2022  17:21            10,300 Untitled36.ipynb\n",
      "07-12-2022  13:13                72 Untitled37.ipynb\n",
      "12-01-2023  12:15             1,260 Untitled38.ipynb\n",
      "18-01-2023  14:00               589 Untitled39.ipynb\n",
      "21-10-2022  11:39            71,975 Untitled4.ipynb\n",
      "19-01-2023  10:09               589 Untitled40.ipynb\n",
      "13-02-2023  11:54            12,352 Untitled41.ipynb\n",
      "13-02-2023  12:34            10,232 Untitled42.ipynb\n",
      "13-02-2023  13:11             2,518 Untitled43.ipynb\n",
      "13-02-2023  14:32             8,329 Untitled44.ipynb\n",
      "13-02-2023  15:34            94,593 Untitled45.ipynb\n",
      "13-02-2023  18:09             9,082 Untitled46.ipynb\n",
      "13-02-2023  16:49             5,115 Untitled47.ipynb\n",
      "13-02-2023  17:09             2,300 Untitled48.ipynb\n",
      "13-02-2023  18:15             6,552 Untitled49.ipynb\n",
      "25-10-2022  09:50            13,170 Untitled5.ipynb\n",
      "14-02-2023  10:45                72 Untitled50.ipynb\n",
      "14-02-2023  13:10             3,662 Untitled51.ipynb\n",
      "14-02-2023  15:04                72 Untitled52.ipynb\n",
      "15-02-2023  22:00           404,483 Untitled53.ipynb\n",
      "15-02-2023  22:19             7,268 Untitled54.ipynb\n",
      "16-02-2023  11:16             1,525 Untitled55.ipynb\n",
      "16-02-2023  17:51           336,753 Untitled56.ipynb\n",
      "16-02-2023  14:53             9,321 Untitled57.ipynb\n",
      "17-02-2023  16:40           239,343 Untitled58.ipynb\n",
      "17-02-2023  17:03           110,428 Untitled59.ipynb\n",
      "25-10-2022  10:01                72 Untitled6.ipynb\n",
      "18-02-2023  16:23             9,373 Untitled60.ipynb\n",
      "22-02-2023  16:24            44,960 Untitled61.ipynb\n",
      "22-02-2023  16:43               944 Untitled62.ipynb\n",
      "27-02-2023  02:33             2,851 Untitled63.ipynb\n",
      "27-02-2023  02:41            22,791 Untitled64.ipynb\n",
      "28-10-2022  16:06               890 Untitled7.ipynb\n",
      "26-10-2022  11:02                72 Untitled8.ipynb\n",
      "26-10-2022  12:54           232,368 Untitled9.ipynb\n",
      "17-10-2022  09:34    <DIR>          Videos\n",
      "30-01-2023  10:35            15,650 Web_scrappig.ipynb\n",
      "14-02-2023  17:04             3,164 Web_scrapping with python_crash course.ipynb\n",
      "16-02-2023  14:58            15,855 Web_Scrapping_selenium.ipynb\n",
      "14-12-2022  17:04             9,084 xml_count.ipynb\n",
      "09-11-2022  21:51             1,171 Xml_remover.ipynb\n",
      "09-02-2023  12:14                21 z.txt\n",
      "             125 File(s)     39,213,844 bytes\n",
      "              39 Dir(s)  187,852,062,720 bytes free\n"
     ]
    }
   ],
   "source": [
    "%ls\n"
   ]
  },
  {
   "cell_type": "code",
   "execution_count": 14,
   "id": "9bd09c43",
   "metadata": {},
   "outputs": [
    {
     "data": {
      "text/plain": [
       "'This is my data which is written in this file'"
      ]
     },
     "execution_count": 14,
     "metadata": {},
     "output_type": "execute_result"
    }
   ],
   "source": [
    "f = open(\"test2.txt\",'r')\n",
    "f.read().strip(\"\\n\")"
   ]
  },
  {
   "cell_type": "code",
   "execution_count": 15,
   "id": "7fd15b3c",
   "metadata": {},
   "outputs": [
    {
     "data": {
      "text/plain": [
       "''"
      ]
     },
     "execution_count": 15,
     "metadata": {},
     "output_type": "execute_result"
    }
   ],
   "source": [
    "f.read()"
   ]
  },
  {
   "cell_type": "code",
   "execution_count": 16,
   "id": "9a62be6a",
   "metadata": {},
   "outputs": [
    {
     "data": {
      "text/plain": [
       "''"
      ]
     },
     "execution_count": 16,
     "metadata": {},
     "output_type": "execute_result"
    }
   ],
   "source": [
    "f.read(5)"
   ]
  },
  {
   "cell_type": "code",
   "execution_count": 17,
   "id": "af5254f3",
   "metadata": {},
   "outputs": [
    {
     "ename": "TypeError",
     "evalue": "argument should be integer or None, not 'str'",
     "output_type": "error",
     "traceback": [
      "\u001b[1;31m---------------------------------------------------------------------------\u001b[0m",
      "\u001b[1;31mTypeError\u001b[0m                                 Traceback (most recent call last)",
      "Input \u001b[1;32mIn [17]\u001b[0m, in \u001b[0;36m<cell line: 1>\u001b[1;34m()\u001b[0m\n\u001b[1;32m----> 1\u001b[0m \u001b[43mf\u001b[49m\u001b[38;5;241;43m.\u001b[39;49m\u001b[43mread\u001b[49m\u001b[43m(\u001b[49m\u001b[38;5;124;43m\"\u001b[39;49m\u001b[38;5;124;43m2\u001b[39;49m\u001b[38;5;124;43m\"\u001b[39;49m\u001b[43m)\u001b[49m\n",
      "\u001b[1;31mTypeError\u001b[0m: argument should be integer or None, not 'str'"
     ]
    }
   ],
   "source": [
    "f.read(\"2\")"
   ]
  },
  {
   "cell_type": "code",
   "execution_count": 18,
   "id": "3f07f450",
   "metadata": {},
   "outputs": [
    {
     "data": {
      "text/plain": [
       "''"
      ]
     },
     "execution_count": 18,
     "metadata": {},
     "output_type": "execute_result"
    }
   ],
   "source": [
    "f.read(1)"
   ]
  },
  {
   "cell_type": "code",
   "execution_count": 20,
   "id": "f4e02367",
   "metadata": {},
   "outputs": [
    {
     "data": {
      "text/plain": [
       "0"
      ]
     },
     "execution_count": 20,
     "metadata": {},
     "output_type": "execute_result"
    }
   ],
   "source": [
    "f.seek(0)"
   ]
  },
  {
   "cell_type": "code",
   "execution_count": 21,
   "id": "c2411ecf",
   "metadata": {},
   "outputs": [
    {
     "data": {
      "text/plain": [
       "'This is my data which is written in this file\\n'"
      ]
     },
     "execution_count": 21,
     "metadata": {},
     "output_type": "execute_result"
    }
   ],
   "source": [
    "f.read()"
   ]
  },
  {
   "cell_type": "code",
   "execution_count": 22,
   "id": "89fdbfd9",
   "metadata": {},
   "outputs": [
    {
     "data": {
      "text/plain": [
       "5"
      ]
     },
     "execution_count": 22,
     "metadata": {},
     "output_type": "execute_result"
    }
   ],
   "source": [
    "f.seek(5)"
   ]
  },
  {
   "cell_type": "code",
   "execution_count": 23,
   "id": "44b9dc3c",
   "metadata": {},
   "outputs": [
    {
     "data": {
      "text/plain": [
       "'is my data which is written in this file\\n'"
      ]
     },
     "execution_count": 23,
     "metadata": {},
     "output_type": "execute_result"
    }
   ],
   "source": [
    "f.read()"
   ]
  },
  {
   "cell_type": "code",
   "execution_count": 24,
   "id": "8579a6d9",
   "metadata": {},
   "outputs": [
    {
     "data": {
      "text/plain": [
       "47"
      ]
     },
     "execution_count": 24,
     "metadata": {},
     "output_type": "execute_result"
    }
   ],
   "source": [
    "f.tell()"
   ]
  },
  {
   "cell_type": "code",
   "execution_count": 25,
   "id": "931f637b",
   "metadata": {},
   "outputs": [
    {
     "name": "stdout",
     "output_type": "stream",
     "text": [
      "Writing test3.txt\n"
     ]
    }
   ],
   "source": [
    "%%writefile test3.txt\n",
    "This is akash"
   ]
  },
  {
   "cell_type": "code",
   "execution_count": 26,
   "id": "c03de99e",
   "metadata": {},
   "outputs": [
    {
     "data": {
      "text/plain": [
       "''"
      ]
     },
     "execution_count": 26,
     "metadata": {},
     "output_type": "execute_result"
    }
   ],
   "source": [
    "f.read()"
   ]
  },
  {
   "cell_type": "code",
   "execution_count": 27,
   "id": "dc8a0158",
   "metadata": {},
   "outputs": [
    {
     "data": {
      "text/plain": [
       "0"
      ]
     },
     "execution_count": 27,
     "metadata": {},
     "output_type": "execute_result"
    }
   ],
   "source": [
    "f.seek(0)"
   ]
  },
  {
   "cell_type": "code",
   "execution_count": 28,
   "id": "f43f1f23",
   "metadata": {},
   "outputs": [
    {
     "data": {
      "text/plain": [
       "'This is my data which is written in this file\\n'"
      ]
     },
     "execution_count": 28,
     "metadata": {},
     "output_type": "execute_result"
    }
   ],
   "source": [
    "f.read()"
   ]
  },
  {
   "cell_type": "code",
   "execution_count": 29,
   "id": "4cdd808e",
   "metadata": {},
   "outputs": [
    {
     "data": {
      "text/plain": [
       "'This is akash\\n'"
      ]
     },
     "execution_count": 29,
     "metadata": {},
     "output_type": "execute_result"
    }
   ],
   "source": [
    "f = open(\"test3.txt\")\n",
    "f.read()"
   ]
  },
  {
   "cell_type": "code",
   "execution_count": 30,
   "id": "340101b1",
   "metadata": {},
   "outputs": [
    {
     "data": {
      "text/plain": [
       "15"
      ]
     },
     "execution_count": 30,
     "metadata": {},
     "output_type": "execute_result"
    }
   ],
   "source": [
    "f.tell()"
   ]
  },
  {
   "cell_type": "code",
   "execution_count": 31,
   "id": "051b2494",
   "metadata": {},
   "outputs": [
    {
     "data": {
      "text/plain": [
       "''"
      ]
     },
     "execution_count": 31,
     "metadata": {},
     "output_type": "execute_result"
    }
   ],
   "source": [
    "f.read()"
   ]
  },
  {
   "cell_type": "code",
   "execution_count": 32,
   "id": "d6b45ad5",
   "metadata": {},
   "outputs": [
    {
     "data": {
      "text/plain": [
       "0"
      ]
     },
     "execution_count": 32,
     "metadata": {},
     "output_type": "execute_result"
    }
   ],
   "source": [
    "f.seek(0)\n"
   ]
  },
  {
   "cell_type": "code",
   "execution_count": 33,
   "id": "849a0c89",
   "metadata": {},
   "outputs": [
    {
     "data": {
      "text/plain": [
       "'This is akash\\n'"
      ]
     },
     "execution_count": 33,
     "metadata": {},
     "output_type": "execute_result"
    }
   ],
   "source": [
    "f.read()"
   ]
  },
  {
   "cell_type": "code",
   "execution_count": 5,
   "id": "07305094",
   "metadata": {},
   "outputs": [
    {
     "ename": "UnicodeEncodeError",
     "evalue": "'charmap' codec can't encode characters in position 13-14: character maps to <undefined>",
     "output_type": "error",
     "traceback": [
      "\u001b[1;31m---------------------------------------------------------------------------\u001b[0m",
      "\u001b[1;31mUnicodeEncodeError\u001b[0m                        Traceback (most recent call last)",
      "Input \u001b[1;32mIn [5]\u001b[0m, in \u001b[0;36m<cell line: 2>\u001b[1;34m()\u001b[0m\n\u001b[0;32m      1\u001b[0m f \u001b[38;5;241m=\u001b[39m \u001b[38;5;28mopen\u001b[39m(\u001b[38;5;124m\"\u001b[39m\u001b[38;5;124mmicrosoft.txt\u001b[39m\u001b[38;5;124m\"\u001b[39m,\u001b[38;5;124m\"\u001b[39m\u001b[38;5;124mw\u001b[39m\u001b[38;5;124m\"\u001b[39m)\n\u001b[1;32m----> 2\u001b[0m \u001b[43mf\u001b[49m\u001b[38;5;241;43m.\u001b[39;49m\u001b[43mwrite\u001b[49m\u001b[43m(\u001b[49m\u001b[38;5;124;43m\"\"\"\u001b[39;49m\u001b[38;5;124;43mGoogle LLC (/ˈɡuːɡəl/ (listen)) is an American multinational technology company focusing on online advertising, search engine technology, cloud computing, computer software, quantum computing, e-commerce, artificial intelligence,[9] and consumer electronics. It has been referred to as \u001b[39;49m\u001b[38;5;124;43m\"\u001b[39;49m\u001b[38;5;124;43mthe most powerful company in the world\u001b[39;49m\u001b[38;5;124;43m\"\u001b[39;49m\u001b[38;5;124;43m[10] and one of the world\u001b[39;49m\u001b[38;5;124;43m'\u001b[39;49m\u001b[38;5;124;43ms most valuable brands due to its market dominance, data collection, and technological advantages in the area of artificial intelligence.[11][12][13] Its parent company Alphabet is considered one of the Big Five American information technology companies, alongside Amazon, Apple, Meta, and Microsoft.\u001b[39;49m\n\u001b[0;32m      3\u001b[0m \n\u001b[0;32m      4\u001b[0m \u001b[38;5;124;43mGoogle was founded on September 4, 1998, by Larry Page and Sergey Brin while they were PhD students at Stanford University in California. Together they own about 14\u001b[39;49m\u001b[38;5;132;43;01m% o\u001b[39;49;00m\u001b[38;5;124;43mf its publicly listed shares and control 56\u001b[39;49m\u001b[38;5;132;43;01m% o\u001b[39;49;00m\u001b[38;5;124;43mf its stockholder voting power through super-voting stock. The company went public via an initial public offering (IPO) in 2004. In 2015, Google was reorganized as a wholly owned subsidiary of Alphabet Inc. Google is Alphabet\u001b[39;49m\u001b[38;5;124;43m'\u001b[39;49m\u001b[38;5;124;43ms largest subsidiary and is a holding company for Alphabet\u001b[39;49m\u001b[38;5;124;43m'\u001b[39;49m\u001b[38;5;124;43ms Internet properties and interests. Sundar Pichai was appointed CEO of Google on October 24, 2015, replacing Larry Page, who became the CEO of Alphabet. On December 3, 2019, Pichai also became the CEO of Alphabet.[14]\u001b[39;49m\n\u001b[0;32m      5\u001b[0m \n\u001b[0;32m      6\u001b[0m \u001b[38;5;124;43mThe company has since rapidly grown to offer a multitude of products and services beyond Google Search, many of which hold dominant market positions. These products address a wide range of use cases, including email (Gmail), navigation (Waze & Maps), cloud computing (Cloud), web browsing (Chrome), video sharing (YouTube), productivity (Workspace), operating systems (Android), cloud storage (Drive), language translation (Translate), photo storage (Photos), video calling (Meet), smart home (Nest), smartphones (Pixel), wearable technology (Pixel Watch & Fitbit), music streaming (YouTube Music), video on demand (YouTube TV), artificial intelligence (Google Assistant), machine learning APIs (TensorFlow), AI chips (TPU), and more. Discontinued Google products include gaming (Stadia), Glass,[citation needed] Google+, Reader, Play Music, Nexus, Hangouts, and Inbox by Gmail.[15][16]\u001b[39;49m\n\u001b[0;32m      7\u001b[0m \n\u001b[0;32m      8\u001b[0m \u001b[38;5;124;43mGoogle\u001b[39;49m\u001b[38;5;124;43m'\u001b[39;49m\u001b[38;5;124;43ms other ventures outside of Internet services and consumer electronics include quantum computing (Sycamore), self-driving cars (Waymo, formerly the Google Self-Driving Car Project), smart cities (Sidewalk Labs), and transformer models (Google Brain).[17]\u001b[39;49m\u001b[38;5;124;43m\"\"\"\u001b[39;49m\u001b[43m)\u001b[49m\n\u001b[0;32m      9\u001b[0m f\u001b[38;5;241m.\u001b[39mclose()\n",
      "File \u001b[1;32m~\\anaconda3\\lib\\encodings\\cp1252.py:19\u001b[0m, in \u001b[0;36mIncrementalEncoder.encode\u001b[1;34m(self, input, final)\u001b[0m\n\u001b[0;32m     18\u001b[0m \u001b[38;5;28;01mdef\u001b[39;00m \u001b[38;5;21mencode\u001b[39m(\u001b[38;5;28mself\u001b[39m, \u001b[38;5;28minput\u001b[39m, final\u001b[38;5;241m=\u001b[39m\u001b[38;5;28;01mFalse\u001b[39;00m):\n\u001b[1;32m---> 19\u001b[0m     \u001b[38;5;28;01mreturn\u001b[39;00m \u001b[43mcodecs\u001b[49m\u001b[38;5;241;43m.\u001b[39;49m\u001b[43mcharmap_encode\u001b[49m\u001b[43m(\u001b[49m\u001b[38;5;28;43minput\u001b[39;49m\u001b[43m,\u001b[49m\u001b[38;5;28;43mself\u001b[39;49m\u001b[38;5;241;43m.\u001b[39;49m\u001b[43merrors\u001b[49m\u001b[43m,\u001b[49m\u001b[43mencoding_table\u001b[49m\u001b[43m)\u001b[49m[\u001b[38;5;241m0\u001b[39m]\n",
      "\u001b[1;31mUnicodeEncodeError\u001b[0m: 'charmap' codec can't encode characters in position 13-14: character maps to <undefined>"
     ]
    }
   ],
   "source": [
    "f = open(\"microsoft.txt\",\"w\")\n",
    "f.write(\"\"\"Google LLC (/ˈɡuːɡəl/ (listen)) is an American multinational technology company focusing on online advertising, search engine technology, cloud computing, computer software, quantum computing, e-commerce, artificial intelligence,[9] and consumer electronics. It has been referred to as \"the most powerful company in the world\"[10] and one of the world's most valuable brands due to its market dominance, data collection, and technological advantages in the area of artificial intelligence.[11][12][13] Its parent company Alphabet is considered one of the Big Five American information technology companies, alongside Amazon, Apple, Meta, and Microsoft.\n",
    "\n",
    "Google was founded on September 4, 1998, by Larry Page and Sergey Brin while they were PhD students at Stanford University in California. Together they own about 14% of its publicly listed shares and control 56% of its stockholder voting power through super-voting stock. The company went public via an initial public offering (IPO) in 2004. In 2015, Google was reorganized as a wholly owned subsidiary of Alphabet Inc. Google is Alphabet's largest subsidiary and is a holding company for Alphabet's Internet properties and interests. Sundar Pichai was appointed CEO of Google on October 24, 2015, replacing Larry Page, who became the CEO of Alphabet. On December 3, 2019, Pichai also became the CEO of Alphabet.[14]\n",
    "\n",
    "The company has since rapidly grown to offer a multitude of products and services beyond Google Search, many of which hold dominant market positions. These products address a wide range of use cases, including email (Gmail), navigation (Waze & Maps), cloud computing (Cloud), web browsing (Chrome), video sharing (YouTube), productivity (Workspace), operating systems (Android), cloud storage (Drive), language translation (Translate), photo storage (Photos), video calling (Meet), smart home (Nest), smartphones (Pixel), wearable technology (Pixel Watch & Fitbit), music streaming (YouTube Music), video on demand (YouTube TV), artificial intelligence (Google Assistant), machine learning APIs (TensorFlow), AI chips (TPU), and more. Discontinued Google products include gaming (Stadia), Glass,[citation needed] Google+, Reader, Play Music, Nexus, Hangouts, and Inbox by Gmail.[15][16]\n",
    "\n",
    "Google's other ventures outside of Internet services and consumer electronics include quantum computing (Sycamore), self-driving cars (Waymo, formerly the Google Self-Driving Car Project), smart cities (Sidewalk Labs), and transformer models (Google Brain).[17]\"\"\")\n",
    "f.close()\n",
    "        "
   ]
  },
  {
   "cell_type": "code",
   "execution_count": 3,
   "id": "04ce2be0",
   "metadata": {},
   "outputs": [
    {
     "data": {
      "text/plain": [
       "'C:\\\\Users\\\\akash'"
      ]
     },
     "execution_count": 3,
     "metadata": {},
     "output_type": "execute_result"
    }
   ],
   "source": [
    "pwd"
   ]
  },
  {
   "cell_type": "code",
   "execution_count": 4,
   "id": "9e49da4d",
   "metadata": {},
   "outputs": [
    {
     "name": "stdout",
     "output_type": "stream",
     "text": [
      " Volume in drive C is Windows\n",
      " Volume Serial Number is 98FA-EFFA\n",
      "\n",
      " Directory of C:\\Users\\akash\n",
      "\n",
      "27-02-2023  11:19    <DIR>          .\n",
      "06-10-2022  12:03    <DIR>          ..\n",
      "17-02-2023  12:27             3,007 .bash_history\n",
      "14-10-2022  11:56    <DIR>          .conda\n",
      "14-10-2022  11:56                25 .condarc\n",
      "14-10-2022  11:56    <DIR>          .continuum\n",
      "09-02-2023  15:06               219 .gitconfig\n",
      "27-02-2023  10:59    <DIR>          .ipynb_checkpoints\n",
      "14-10-2022  11:50    <DIR>          .ipython\n",
      "14-10-2022  11:52    <DIR>          .jupyter\n",
      "07-12-2022  17:18    <DIR>          .keras\n",
      "10-02-2023  12:31                20 .lesshst\n",
      "17-10-2022  12:24    <DIR>          .matplotlib\n",
      "12-01-2023  11:12                19 .popsql.json\n",
      "17-10-2022  12:20                 0 .python_history\n",
      "07-12-2022  12:56    <DIR>          .spyder-py3\n",
      "08-12-2022  21:44    <DIR>          .ssh\n",
      "07-02-2023  12:09    <DIR>          .VirtualBox\n",
      "07-10-2022  14:08    <DIR>          .vscode\n",
      "22-02-2023  10:24    <DIR>          .wdm\n",
      "22-02-2023  21:37            67,811 12-02-23_scrapping.ipynb\n",
      "02-02-2023  14:56    <DIR>          agent\n",
      "24-11-2022  22:04             1,867 Algo.ipynb\n",
      "24-11-2022  14:55             5,308 alkms.ipynb\n",
      "14-10-2022  11:46    <DIR>          anaconda3\n",
      "29-10-2022  22:39           144,298 battery-report.html\n",
      "15-02-2023  22:08            29,116 Beautiful_soap.ipynb\n",
      "13-02-2023  18:09             6,327 Bounding_box.ipynb\n",
      "09-02-2023  11:27                12 c.txt\n",
      "26-10-2022  21:41             4,772 captcha.png\n",
      "07-12-2022  21:46    <DIR>          cbp-dashboard\n",
      "02-02-2023  15:08    <DIR>          cd\n",
      "06-10-2022  11:15    <DIR>          Contacts\n",
      "18-02-2023  16:18               317 data.csv\n",
      "25-10-2022  12:57            20,499 Data_Manipulation.ipynb\n",
      "25-10-2022  14:31             6,567 Data_Preprocessing.ipynb\n",
      "21-10-2022  11:40    <DIR>          dataset\n",
      "22-02-2023  15:58             4,680 details.csv\n",
      "25-10-2022  15:50    <DIR>          Documents\n",
      "22-02-2023  22:04    <DIR>          Downloads\n",
      "13-02-2023  18:02             3,237 Draw_Bounding_box.ipynb\n",
      "29-11-2022  16:37            18,124 dsa.ipynb\n",
      "05-12-2022  19:32            13,804 Dsa_1.ipynb\n",
      "06-10-2022  11:15    <DIR>          Favorites\n",
      "27-02-2023  11:18            43,373 File_handling.ipynb\n",
      "24-11-2022  15:11             7,265 Geometric.ipynb\n",
      "07-12-2022  14:57             5,343 Geometric_Reasoning.ipynb\n",
      "07-02-2023  14:38    <DIR>          git\n",
      "26-10-2022  15:58           371,822 Google_bing_baidu.ipynb\n",
      "27-10-2022  12:31         2,579,652 icrambler.ipynb\n",
      "13-02-2023  15:34             6,747 iliyas.ipynb\n",
      "26-10-2022  22:34    <DIR>          images\n",
      "17-02-2023  12:21           738,301 Implementation_one_scrap.ipynb\n",
      "20-10-2022  14:22    <DIR>          Jedi\n",
      "27-10-2022  12:24             4,723 Linear_Algebra.ipynb\n",
      "06-10-2022  11:15    <DIR>          Links\n",
      "27-02-2023  11:20                 0 microsoft.txt\n",
      "28-10-2022  17:13             3,798 modified.ipynb\n",
      "28-10-2022  16:23             4,743 modified_1.ipynb\n",
      "26-10-2022  22:18           288,629 mogili\n",
      "06-10-2022  11:15    <DIR>          Music\n",
      "31-01-2023  17:36    <DIR>          myproject\n",
      "08-12-2022  10:47    <DIR>          OneDrive\n",
      "27-02-2023  08:35    <DIR>          OneDrive - Purecode Software\n",
      "13-02-2023  15:21         1,200,251 output_image.jpg\n",
      "26-10-2022  21:41                 0 page_source\n",
      "19-02-2023  15:13           175,492 pandas.ipynb\n",
      "30-01-2023  09:19    <DIR>          Pictures\n",
      "08-12-2022  12:37            28,580 pract.ipynb\n",
      "08-12-2022  12:35             7,494 Pract_Session.ipynb\n",
      "20-10-2022  17:26               477 prime.py\n",
      "07-02-2023  14:46    <DIR>          project1\n",
      "09-02-2023  14:32    <DIR>          projectdemo\n",
      "07-02-2023  14:38    <DIR>          projects\n",
      "31-10-2022  12:48             3,192 Pytorch.ipynb\n",
      "22-02-2023  14:59             4,523 result2.csv\n",
      "06-10-2022  11:15    <DIR>          Saved Games\n",
      "06-10-2022  11:24    <DIR>          Searches\n",
      "16-02-2023  14:56            55,284 Selenium_Webscrapping.ipynb\n",
      "31-01-2023  12:47    <DIR>          test\n",
      "17-02-2023  16:07         6,856,355 test.csv\n",
      "17-02-2023  11:16           153,489 test.json\n",
      "27-02-2023  02:34                 0 test.txt\n",
      "19-02-2023  14:56         6,856,355 test1.csv\n",
      "19-02-2023  14:56         6,856,197 test2.csv\n",
      "27-02-2023  02:44                47 test2.txt\n",
      "19-02-2023  14:58         6,617,174 test3.csv\n",
      "27-02-2023  02:56                15 test3.txt\n",
      "19-02-2023  14:59           698,057 test4.csv\n",
      "19-02-2023  15:01         1,203,858 test5.csv\n",
      "17-02-2023  11:06           153,489 text.txt\n",
      "27-02-2023  02:41                34 text1.txt\n",
      "14-10-2022  11:52             1,844 Untitled.ipynb\n",
      "07-12-2022  13:13                 0 untitled.txt\n",
      "14-10-2022  11:56             1,592 Untitled1.ipynb\n",
      "26-10-2022  13:14           144,130 Untitled10.ipynb\n",
      "26-10-2022  14:47         1,584,361 Untitled11.ipynb\n",
      "26-10-2022  14:49            11,376 Untitled12.ipynb\n",
      "26-10-2022  16:12               988 Untitled13.ipynb\n",
      "26-10-2022  16:32            21,312 Untitled14.ipynb\n",
      "26-10-2022  16:51             3,913 Untitled15.ipynb\n",
      "26-10-2022  16:54                72 Untitled16.ipynb\n",
      "26-10-2022  22:16             5,253 Untitled17.ipynb\n",
      "26-10-2022  22:24             3,286 Untitled18.ipynb\n",
      "30-10-2022  17:14                72 Untitled19.ipynb\n",
      "17-10-2022  10:38               589 Untitled2.ipynb\n",
      "31-10-2022  10:14                72 Untitled20.ipynb\n",
      "31-10-2022  11:14                72 Untitled21.ipynb\n",
      "03-11-2022  10:03               589 Untitled22.ipynb\n",
      "03-11-2022  12:57                72 Untitled23.ipynb\n",
      "06-11-2022  23:16            14,199 Untitled24.ipynb\n",
      "09-11-2022  21:43             4,727 Untitled25.ipynb\n",
      "10-11-2022  11:22             1,455 Untitled26.ipynb\n",
      "13-11-2022  12:52               589 Untitled27.ipynb\n",
      "13-11-2022  12:52               589 Untitled27-Copy1.ipynb\n",
      "16-11-2022  22:21             1,601 Untitled28.ipynb\n",
      "24-11-2022  15:02             5,039 Untitled29.ipynb\n",
      "20-10-2022  17:29           371,517 Untitled3.ipynb\n",
      "24-11-2022  21:26                72 Untitled30.ipynb\n",
      "25-11-2022  16:53             1,766 Untitled31.ipynb\n",
      "30-11-2022  12:56             5,017 Untitled32.ipynb\n",
      "30-11-2022  14:16               589 Untitled33.ipynb\n",
      "02-12-2022  12:37            71,090 Untitled34.ipynb\n",
      "06-12-2022  11:24               589 Untitled35.ipynb\n",
      "07-12-2022  17:21            10,300 Untitled36.ipynb\n",
      "07-12-2022  13:13                72 Untitled37.ipynb\n",
      "12-01-2023  12:15             1,260 Untitled38.ipynb\n",
      "18-01-2023  14:00               589 Untitled39.ipynb\n",
      "21-10-2022  11:39            71,975 Untitled4.ipynb\n",
      "19-01-2023  10:09               589 Untitled40.ipynb\n",
      "13-02-2023  11:54            12,352 Untitled41.ipynb\n",
      "13-02-2023  12:34            10,232 Untitled42.ipynb\n",
      "13-02-2023  13:11             2,518 Untitled43.ipynb\n",
      "13-02-2023  14:32             8,329 Untitled44.ipynb\n",
      "13-02-2023  15:34            94,593 Untitled45.ipynb\n",
      "13-02-2023  18:09             9,082 Untitled46.ipynb\n",
      "13-02-2023  16:49             5,115 Untitled47.ipynb\n",
      "13-02-2023  17:09             2,300 Untitled48.ipynb\n",
      "13-02-2023  18:15             6,552 Untitled49.ipynb\n",
      "25-10-2022  09:50            13,170 Untitled5.ipynb\n",
      "14-02-2023  10:45                72 Untitled50.ipynb\n",
      "14-02-2023  13:10             3,662 Untitled51.ipynb\n",
      "14-02-2023  15:04                72 Untitled52.ipynb\n",
      "15-02-2023  22:00           404,483 Untitled53.ipynb\n",
      "15-02-2023  22:19             7,268 Untitled54.ipynb\n",
      "16-02-2023  11:16             1,525 Untitled55.ipynb\n",
      "16-02-2023  17:51           336,753 Untitled56.ipynb\n",
      "16-02-2023  14:53             9,321 Untitled57.ipynb\n",
      "17-02-2023  16:40           239,343 Untitled58.ipynb\n",
      "17-02-2023  17:03           110,428 Untitled59.ipynb\n",
      "25-10-2022  10:01                72 Untitled6.ipynb\n",
      "18-02-2023  16:23             9,373 Untitled60.ipynb\n",
      "22-02-2023  16:24            44,960 Untitled61.ipynb\n",
      "22-02-2023  16:43               944 Untitled62.ipynb\n",
      "27-02-2023  02:33             2,851 Untitled63.ipynb\n",
      "27-02-2023  02:41            22,791 Untitled64.ipynb\n",
      "27-02-2023  11:13             9,138 Untitled65.ipynb\n",
      "28-10-2022  16:06               890 Untitled7.ipynb\n",
      "26-10-2022  11:02                72 Untitled8.ipynb\n",
      "26-10-2022  12:54           232,368 Untitled9.ipynb\n",
      "17-10-2022  09:34    <DIR>          Videos\n",
      "30-01-2023  10:35            15,650 Web_scrappig.ipynb\n",
      "14-02-2023  17:04             3,164 Web_scrapping with python_crash course.ipynb\n",
      "16-02-2023  14:58            15,855 Web_Scrapping_selenium.ipynb\n",
      "14-12-2022  17:04             9,084 xml_count.ipynb\n",
      "09-11-2022  21:51             1,171 Xml_remover.ipynb\n",
      "09-02-2023  12:14                21 z.txt\n",
      "             128 File(s)     39,243,579 bytes\n",
      "              39 Dir(s)  189,089,427,456 bytes free\n"
     ]
    }
   ],
   "source": [
    "%ls"
   ]
  },
  {
   "cell_type": "code",
   "execution_count": 6,
   "id": "316a4a73",
   "metadata": {},
   "outputs": [],
   "source": [
    "f.close()"
   ]
  },
  {
   "cell_type": "code",
   "execution_count": 8,
   "id": "86b7d051",
   "metadata": {},
   "outputs": [
    {
     "data": {
      "text/plain": [
       "2521"
      ]
     },
     "execution_count": 8,
     "metadata": {},
     "output_type": "execute_result"
    }
   ],
   "source": [
    "f = open(\"akash.txt\",\"w\",encoding=\"utf-8\")\n",
    "f.write(\"\"\"Google LLC (/ˈɡuːɡəl/ (listen)) is an American multinational technology company focusing on online advertising, search engine technology, cloud computing, computer software, quantum computing, e-commerce, artificial intelligence,[9] and consumer electronics. It has been referred to as \"the most powerful company in the world\"[10] and one of the world's most valuable brands due to its market dominance, data collection, and technological advantages in the area of artificial intelligence.[11][12][13] Its parent company Alphabet is considered one of the Big Five American information technology companies, alongside Amazon, Apple, Meta, and Microsoft.\n",
    "\n",
    "Google was founded on September 4, 1998, by Larry Page and Sergey Brin while they were PhD students at Stanford University in California. Together they own about 14% of its publicly listed shares and control 56% of its stockholder voting power through super-voting stock. The company went public via an initial public offering (IPO) in 2004. In 2015, Google was reorganized as a wholly owned subsidiary of Alphabet Inc. Google is Alphabet's largest subsidiary and is a holding company for Alphabet's Internet properties and interests. Sundar Pichai was appointed CEO of Google on October 24, 2015, replacing Larry Page, who became the CEO of Alphabet. On December 3, 2019, Pichai also became the CEO of Alphabet.[14]\n",
    "\n",
    "The company has since rapidly grown to offer a multitude of products and services beyond Google Search, many of which hold dominant market positions. These products address a wide range of use cases, including email (Gmail), navigation (Waze & Maps), cloud computing (Cloud), web browsing (Chrome), video sharing (YouTube), productivity (Workspace), operating systems (Android), cloud storage (Drive), language translation (Translate), photo storage (Photos), video calling (Meet), smart home (Nest), smartphones (Pixel), wearable technology (Pixel Watch & Fitbit), music streaming (YouTube Music), video on demand (YouTube TV), artificial intelligence (Google Assistant), machine learning APIs (TensorFlow), AI chips (TPU), and more. Discontinued Google products include gaming (Stadia), Glass,[citation needed] Google+, Reader, Play Music, Nexus, Hangouts, and Inbox by Gmail.[15][16]\n",
    "\n",
    "Google's other ventures outside of Internet services and consumer electronics include quantum computing (Sycamore), self-driving cars (Waymo, formerly the Google Self-Driving Car Project), smart cities (Sidewalk Labs), and transformer models (Google Brain).[17]\"\"\")"
   ]
  },
  {
   "cell_type": "code",
   "execution_count": 9,
   "id": "bc96f8ef",
   "metadata": {},
   "outputs": [],
   "source": [
    "f.close()"
   ]
  },
  {
   "cell_type": "code",
   "execution_count": 11,
   "id": "25538dcc",
   "metadata": {},
   "outputs": [
    {
     "data": {
      "text/plain": [
       "'Google LLC (/ˈɡuːɡəl/ (listen)) is an American multinational technology company focusing on online advertising, search engine technology, cloud computing, computer software, quantum computing, e-commerce, artificial intelligence,[9] and consumer electronics. It has been referred to as \"the most powerful company in the world\"[10] and one of the world\\'s most valuable brands due to its market dominance, data collection, and technological advantages in the area of artificial intelligence.[11][12][13] Its parent company Alphabet is considered one of the Big Five American information technology companies, alongside Amazon, Apple, Meta, and Microsoft.\\n\\nGoogle was founded on September 4, 1998, by Larry Page and Sergey Brin while they were PhD students at Stanford University in California. Together they own about 14% of its publicly listed shares and control 56% of its stockholder voting power through super-voting stock. The company went public via an initial public offering (IPO) in 2004. In 2015, Google was reorganized as a wholly owned subsidiary of Alphabet Inc. Google is Alphabet\\'s largest subsidiary and is a holding company for Alphabet\\'s Internet properties and interests. Sundar Pichai was appointed CEO of Google on October 24, 2015, replacing Larry Page, who became the CEO of Alphabet. On December 3, 2019, Pichai also became the CEO of Alphabet.[14]\\n\\nThe company has since rapidly grown to offer a multitude of products and services beyond Google Search, many of which hold dominant market positions. These products address a wide range of use cases, including email (Gmail), navigation (Waze & Maps), cloud computing (Cloud), web browsing (Chrome), video sharing (YouTube), productivity (Workspace), operating systems (Android), cloud storage (Drive), language translation (Translate), photo storage (Photos), video calling (Meet), smart home (Nest), smartphones (Pixel), wearable technology (Pixel Watch & Fitbit), music streaming (YouTube Music), video on demand (YouTube TV), artificial intelligence (Google Assistant), machine learning APIs (TensorFlow), AI chips (TPU), and more. Discontinued Google products include gaming (Stadia), Glass,[citation needed] Google+, Reader, Play Music, Nexus, Hangouts, and Inbox by Gmail.[15][16]\\n\\nGoogle\\'s other ventures outside of Internet services and consumer electronics include quantum computing (Sycamore), self-driving cars (Waymo, formerly the Google Self-Driving Car Project), smart cities (Sidewalk Labs), and transformer models (Google Brain).[17]'"
      ]
     },
     "execution_count": 11,
     "metadata": {},
     "output_type": "execute_result"
    }
   ],
   "source": [
    "f = open('akash.txt','r+',encoding=\"utf-8\")\n",
    "f.read()"
   ]
  },
  {
   "cell_type": "code",
   "execution_count": 12,
   "id": "a3791945",
   "metadata": {},
   "outputs": [
    {
     "data": {
      "text/plain": [
       "''"
      ]
     },
     "execution_count": 12,
     "metadata": {},
     "output_type": "execute_result"
    }
   ],
   "source": [
    "f.read()"
   ]
  },
  {
   "cell_type": "code",
   "execution_count": 13,
   "id": "3becdb31",
   "metadata": {},
   "outputs": [
    {
     "data": {
      "text/plain": [
       "0"
      ]
     },
     "execution_count": 13,
     "metadata": {},
     "output_type": "execute_result"
    }
   ],
   "source": [
    "f.seek(0)"
   ]
  },
  {
   "cell_type": "code",
   "execution_count": 14,
   "id": "c6362999",
   "metadata": {},
   "outputs": [
    {
     "data": {
      "text/plain": [
       "'Google LLC (/ˈɡuːɡəl/ (listen)) is an American multinational technology company focusing on online advertising, search engine technology, cloud computing, computer software, quantum computing, e-commerce, artificial intelligence,[9] and consumer electronics. It has been referred to as \"the most powerful company in the world\"[10] and one of the world\\'s most valuable brands due to its market dominance, data collection, and technological advantages in the area of artificial intelligence.[11][12][13] Its parent company Alphabet is considered one of the Big Five American information technology companies, alongside Amazon, Apple, Meta, and Microsoft.\\n\\nGoogle was founded on September 4, 1998, by Larry Page and Sergey Brin while they were PhD students at Stanford University in California. Together they own about 14% of its publicly listed shares and control 56% of its stockholder voting power through super-voting stock. The company went public via an initial public offering (IPO) in 2004. In 2015, Google was reorganized as a wholly owned subsidiary of Alphabet Inc. Google is Alphabet\\'s largest subsidiary and is a holding company for Alphabet\\'s Internet properties and interests. Sundar Pichai was appointed CEO of Google on October 24, 2015, replacing Larry Page, who became the CEO of Alphabet. On December 3, 2019, Pichai also became the CEO of Alphabet.[14]\\n\\nThe company has since rapidly grown to offer a multitude of products and services beyond Google Search, many of which hold dominant market positions. These products address a wide range of use cases, including email (Gmail), navigation (Waze & Maps), cloud computing (Cloud), web browsing (Chrome), video sharing (YouTube), productivity (Workspace), operating systems (Android), cloud storage (Drive), language translation (Translate), photo storage (Photos), video calling (Meet), smart home (Nest), smartphones (Pixel), wearable technology (Pixel Watch & Fitbit), music streaming (YouTube Music), video on demand (YouTube TV), artificial intelligence (Google Assistant), machine learning APIs (TensorFlow), AI chips (TPU), and more. Discontinued Google products include gaming (Stadia), Glass,[citation needed] Google+, Reader, Play Music, Nexus, Hangouts, and Inbox by Gmail.[15][16]\\n\\nGoogle\\'s other ventures outside of Internet services and consumer electronics include quantum computing (Sycamore), self-driving cars (Waymo, formerly the Google Self-Driving Car Project), smart cities (Sidewalk Labs), and transformer models (Google Brain).[17]'"
      ]
     },
     "execution_count": 14,
     "metadata": {},
     "output_type": "execute_result"
    }
   ],
   "source": [
    "f.read()"
   ]
  },
  {
   "cell_type": "code",
   "execution_count": 15,
   "id": "dbc9d575",
   "metadata": {},
   "outputs": [
    {
     "data": {
      "text/plain": [
       "''"
      ]
     },
     "execution_count": 15,
     "metadata": {},
     "output_type": "execute_result"
    }
   ],
   "source": [
    "f.readline()"
   ]
  },
  {
   "cell_type": "code",
   "execution_count": 16,
   "id": "3a42fdfe",
   "metadata": {},
   "outputs": [
    {
     "data": {
      "text/plain": [
       "0"
      ]
     },
     "execution_count": 16,
     "metadata": {},
     "output_type": "execute_result"
    }
   ],
   "source": [
    "f.seek(0)"
   ]
  },
  {
   "cell_type": "code",
   "execution_count": 17,
   "id": "ebb1bfcc",
   "metadata": {},
   "outputs": [
    {
     "data": {
      "text/plain": [
       "'Google LLC (/ˈɡuːɡəl/ (listen)) is an American multinational technology company focusing on online advertising, search engine technology, cloud computing, computer software, quantum computing, e-commerce, artificial intelligence,[9] and consumer electronics. It has been referred to as \"the most powerful company in the world\"[10] and one of the world\\'s most valuable brands due to its market dominance, data collection, and technological advantages in the area of artificial intelligence.[11][12][13] Its parent company Alphabet is considered one of the Big Five American information technology companies, alongside Amazon, Apple, Meta, and Microsoft.\\n'"
      ]
     },
     "execution_count": 17,
     "metadata": {},
     "output_type": "execute_result"
    }
   ],
   "source": [
    "f.readline()"
   ]
  },
  {
   "cell_type": "code",
   "execution_count": 18,
   "id": "5885a5f5",
   "metadata": {},
   "outputs": [
    {
     "data": {
      "text/plain": [
       "'\\n'"
      ]
     },
     "execution_count": 18,
     "metadata": {},
     "output_type": "execute_result"
    }
   ],
   "source": [
    "f.readline()"
   ]
  },
  {
   "cell_type": "code",
   "execution_count": 19,
   "id": "9435815b",
   "metadata": {},
   "outputs": [
    {
     "data": {
      "text/plain": [
       "\"Google was founded on September 4, 1998, by Larry Page and Sergey Brin while they were PhD students at Stanford University in California. Together they own about 14% of its publicly listed shares and control 56% of its stockholder voting power through super-voting stock. The company went public via an initial public offering (IPO) in 2004. In 2015, Google was reorganized as a wholly owned subsidiary of Alphabet Inc. Google is Alphabet's largest subsidiary and is a holding company for Alphabet's Internet properties and interests. Sundar Pichai was appointed CEO of Google on October 24, 2015, replacing Larry Page, who became the CEO of Alphabet. On December 3, 2019, Pichai also became the CEO of Alphabet.[14]\\n\""
      ]
     },
     "execution_count": 19,
     "metadata": {},
     "output_type": "execute_result"
    }
   ],
   "source": [
    "f.readline()"
   ]
  },
  {
   "cell_type": "code",
   "execution_count": 20,
   "id": "c78e0d16",
   "metadata": {},
   "outputs": [
    {
     "data": {
      "text/plain": [
       "'\\n'"
      ]
     },
     "execution_count": 20,
     "metadata": {},
     "output_type": "execute_result"
    }
   ],
   "source": [
    "f.readline()"
   ]
  },
  {
   "cell_type": "code",
   "execution_count": 21,
   "id": "f442ed28",
   "metadata": {},
   "outputs": [
    {
     "data": {
      "text/plain": [
       "'The company has since rapidly grown to offer a multitude of products and services beyond Google Search, many of which hold dominant market positions. These products address a wide range of use cases, including email (Gmail), navigation (Waze & Maps), cloud computing (Cloud), web browsing (Chrome), video sharing (YouTube), productivity (Workspace), operating systems (Android), cloud storage (Drive), language translation (Translate), photo storage (Photos), video calling (Meet), smart home (Nest), smartphones (Pixel), wearable technology (Pixel Watch & Fitbit), music streaming (YouTube Music), video on demand (YouTube TV), artificial intelligence (Google Assistant), machine learning APIs (TensorFlow), AI chips (TPU), and more. Discontinued Google products include gaming (Stadia), Glass,[citation needed] Google+, Reader, Play Music, Nexus, Hangouts, and Inbox by Gmail.[15][16]\\n'"
      ]
     },
     "execution_count": 21,
     "metadata": {},
     "output_type": "execute_result"
    }
   ],
   "source": [
    "f.readline()"
   ]
  },
  {
   "cell_type": "code",
   "execution_count": 22,
   "id": "29b35b82",
   "metadata": {},
   "outputs": [
    {
     "data": {
      "text/plain": [
       "''"
      ]
     },
     "execution_count": 22,
     "metadata": {},
     "output_type": "execute_result"
    }
   ],
   "source": [
    "f.readline().strip('\\n')"
   ]
  },
  {
   "cell_type": "code",
   "execution_count": 23,
   "id": "05f3585c",
   "metadata": {},
   "outputs": [],
   "source": [
    "f.close()"
   ]
  },
  {
   "cell_type": "code",
   "execution_count": 26,
   "id": "4606482a",
   "metadata": {},
   "outputs": [
    {
     "name": "stdout",
     "output_type": "stream",
     "text": [
      "Google LLC (/ˈɡuːɡəl/ (listen)) is an American multinational technology company focusing on online advertising, search engine technology, cloud computing, computer software, quantum computing, e-commerce, artificial intelligence,[9] and consumer electronics. It has been referred to as \"the most powerful company in the world\"[10] and one of the world's most valuable brands due to its market dominance, data collection, and technological advantages in the area of artificial intelligence.[11][12][13] Its parent company Alphabet is considered one of the Big Five American information technology companies, alongside Amazon, Apple, Meta, and Microsoft.\n",
      "\n",
      "Google was founded on September 4, 1998, by Larry Page and Sergey Brin while they were PhD students at Stanford University in California. Together they own about 14% of its publicly listed shares and control 56% of its stockholder voting power through super-voting stock. The company went public via an initial public offering (IPO) in 2004. In 2015, Google was reorganized as a wholly owned subsidiary of Alphabet Inc. Google is Alphabet's largest subsidiary and is a holding company for Alphabet's Internet properties and interests. Sundar Pichai was appointed CEO of Google on October 24, 2015, replacing Larry Page, who became the CEO of Alphabet. On December 3, 2019, Pichai also became the CEO of Alphabet.[14]\n",
      "\n",
      "The company has since rapidly grown to offer a multitude of products and services beyond Google Search, many of which hold dominant market positions. These products address a wide range of use cases, including email (Gmail), navigation (Waze & Maps), cloud computing (Cloud), web browsing (Chrome), video sharing (YouTube), productivity (Workspace), operating systems (Android), cloud storage (Drive), language translation (Translate), photo storage (Photos), video calling (Meet), smart home (Nest), smartphones (Pixel), wearable technology (Pixel Watch & Fitbit), music streaming (YouTube Music), video on demand (YouTube TV), artificial intelligence (Google Assistant), machine learning APIs (TensorFlow), AI chips (TPU), and more. Discontinued Google products include gaming (Stadia), Glass,[citation needed] Google+, Reader, Play Music, Nexus, Hangouts, and Inbox by Gmail.[15][16]\n",
      "\n",
      "Google's other ventures outside of Internet services and consumer electronics include quantum computing (Sycamore), self-driving cars (Waymo, formerly the Google Self-Driving Car Project), smart cities (Sidewalk Labs), and transformer models (Google Brain).[17]"
     ]
    }
   ],
   "source": [
    "f = open(\"akash.txt\",\"r+\",encoding=\"utf-8\")\n",
    "for line in f:\n",
    "    print(line,end = '')"
   ]
  },
  {
   "cell_type": "code",
   "execution_count": 39,
   "id": "f42bdc9a",
   "metadata": {},
   "outputs": [
    {
     "data": {
      "text/plain": [
       "5"
      ]
     },
     "execution_count": 39,
     "metadata": {},
     "output_type": "execute_result"
    }
   ],
   "source": [
    "f = open(\"akash.txt\",\"r+\",encoding = 'utf-8')\n",
    "f.seek(5)"
   ]
  },
  {
   "cell_type": "code",
   "execution_count": 40,
   "id": "da0b1059",
   "metadata": {},
   "outputs": [
    {
     "data": {
      "text/plain": [
       "5"
      ]
     },
     "execution_count": 40,
     "metadata": {},
     "output_type": "execute_result"
    }
   ],
   "source": [
    "f.write(\"Akash\")"
   ]
  },
  {
   "cell_type": "code",
   "execution_count": 41,
   "id": "7d50b31a",
   "metadata": {},
   "outputs": [
    {
     "data": {
      "text/plain": [
       "' (/ˈɡuːɡəl/ (listen)) is an American multinational technology company focusing on online advertising, search engine technology, cloud computing, computer software, quantum computing, e-commerce, artificial intelligence,[9] and consumer electronics. It has been referred to as \"the most powerful company in the world\"[10] and one of the world\\'s most valuable brands due to its market dominance, data collection, and technological advantages in the area of artificial intelligence.[11][12][13] Its parent company Alphabet is considered one of the Big Five American information technology companies, alongside Amazon, Apple, Meta, and Microsoft.\\n\\nGoogle was founded on September 4, 1998, by Larry Page and Sergey Brin while they were PhD students at Stanford University in California. Together they own about 14% of its publicly listed shares and control 56% of its stockholder voting power through super-voting stock. The company went public via an initial public offering (IPO) in 2004. In 2015, Google was reorganized as a wholly owned subsidiary of Alphabet Inc. Google is Alphabet\\'s largest subsidiary and is a holding company for Alphabet\\'s Internet properties and interests. Sundar Pichai was appointed CEO of Google on October 24, 2015, replacing Larry Page, who became the CEO of Alphabet. On December 3, 2019, Pichai also became the CEO of Alphabet.[14]\\n\\nThe company has since rapidly grown to offer a multitude of products and services beyond Google Search, many of which hold dominant market positions. These products address a wide range of use cases, including email (Gmail), navigation (Waze & Maps), cloud computing (Cloud), web browsing (Chrome), video sharing (YouTube), productivity (Workspace), operating systems (Android), cloud storage (Drive), language translation (Translate), photo storage (Photos), video calling (Meet), smart home (Nest), smartphones (Pixel), wearable technology (Pixel Watch & Fitbit), music streaming (YouTube Music), video on demand (YouTube TV), artificial intelligence (Google Assistant), machine learning APIs (TensorFlow), AI chips (TPU), and more. Discontinued Google products include gaming (Stadia), Glass,[citation needed] Google+, Reader, Play Music, Nexus, Hangouts, and Inbox by Gmail.[15][16]\\n\\nGoogle\\'s other ventures outside of Internet services and consumer electronics include quantum computing (Sycamore), self-driving cars (Waymo, formerly the Google Self-Driving Car Project), smart cities (Sidewalk Labs), and transformer models (Google Brain).[17]'"
      ]
     },
     "execution_count": 41,
     "metadata": {},
     "output_type": "execute_result"
    }
   ],
   "source": [
    "f.read()"
   ]
  },
  {
   "cell_type": "code",
   "execution_count": 35,
   "id": "a0c9c9e0",
   "metadata": {},
   "outputs": [
    {
     "ename": "ValueError",
     "evalue": "I/O operation on closed file.",
     "output_type": "error",
     "traceback": [
      "\u001b[1;31m---------------------------------------------------------------------------\u001b[0m",
      "\u001b[1;31mValueError\u001b[0m                                Traceback (most recent call last)",
      "Input \u001b[1;32mIn [35]\u001b[0m, in \u001b[0;36m<cell line: 1>\u001b[1;34m()\u001b[0m\n\u001b[1;32m----> 1\u001b[0m \u001b[43mf\u001b[49m\u001b[38;5;241;43m.\u001b[39;49m\u001b[43mreadline\u001b[49m\u001b[43m(\u001b[49m\u001b[43m)\u001b[49m\n",
      "\u001b[1;31mValueError\u001b[0m: I/O operation on closed file."
     ]
    }
   ],
   "source": []
  },
  {
   "cell_type": "code",
   "execution_count": 42,
   "id": "e3a94501",
   "metadata": {},
   "outputs": [
    {
     "data": {
      "text/plain": [
       "0"
      ]
     },
     "execution_count": 42,
     "metadata": {},
     "output_type": "execute_result"
    }
   ],
   "source": [
    "f.seek(0)"
   ]
  },
  {
   "cell_type": "code",
   "execution_count": 43,
   "id": "07fdf51e",
   "metadata": {},
   "outputs": [
    {
     "data": {
      "text/plain": [
       "'GooglAkash (/ˈɡuːɡəl/ (listen)) is an American multinational technology company focusing on online advertising, search engine technology, cloud computing, computer software, quantum computing, e-commerce, artificial intelligence,[9] and consumer electronics. It has been referred to as \"the most powerful company in the world\"[10] and one of the world\\'s most valuable brands due to its market dominance, data collection, and technological advantages in the area of artificial intelligence.[11][12][13] Its parent company Alphabet is considered one of the Big Five American information technology companies, alongside Amazon, Apple, Meta, and Microsoft.\\n\\nGoogle was founded on September 4, 1998, by Larry Page and Sergey Brin while they were PhD students at Stanford University in California. Together they own about 14% of its publicly listed shares and control 56% of its stockholder voting power through super-voting stock. The company went public via an initial public offering (IPO) in 2004. In 2015, Google was reorganized as a wholly owned subsidiary of Alphabet Inc. Google is Alphabet\\'s largest subsidiary and is a holding company for Alphabet\\'s Internet properties and interests. Sundar Pichai was appointed CEO of Google on October 24, 2015, replacing Larry Page, who became the CEO of Alphabet. On December 3, 2019, Pichai also became the CEO of Alphabet.[14]\\n\\nThe company has since rapidly grown to offer a multitude of products and services beyond Google Search, many of which hold dominant market positions. These products address a wide range of use cases, including email (Gmail), navigation (Waze & Maps), cloud computing (Cloud), web browsing (Chrome), video sharing (YouTube), productivity (Workspace), operating systems (Android), cloud storage (Drive), language translation (Translate), photo storage (Photos), video calling (Meet), smart home (Nest), smartphones (Pixel), wearable technology (Pixel Watch & Fitbit), music streaming (YouTube Music), video on demand (YouTube TV), artificial intelligence (Google Assistant), machine learning APIs (TensorFlow), AI chips (TPU), and more. Discontinued Google products include gaming (Stadia), Glass,[citation needed] Google+, Reader, Play Music, Nexus, Hangouts, and Inbox by Gmail.[15][16]\\n\\nGoogle\\'s other ventures outside of Internet services and consumer electronics include quantum computing (Sycamore), self-driving cars (Waymo, formerly the Google Self-Driving Car Project), smart cities (Sidewalk Labs), and transformer models (Google Brain).[17]'"
      ]
     },
     "execution_count": 43,
     "metadata": {},
     "output_type": "execute_result"
    }
   ],
   "source": [
    "f.read()"
   ]
  },
  {
   "cell_type": "code",
   "execution_count": 45,
   "id": "55962f20",
   "metadata": {},
   "outputs": [
    {
     "ename": "AttributeError",
     "evalue": "'int' object has no attribute 'replace'",
     "output_type": "error",
     "traceback": [
      "\u001b[1;31m---------------------------------------------------------------------------\u001b[0m",
      "\u001b[1;31mAttributeError\u001b[0m                            Traceback (most recent call last)",
      "Input \u001b[1;32mIn [45]\u001b[0m, in \u001b[0;36m<cell line: 1>\u001b[1;34m()\u001b[0m\n\u001b[1;32m----> 1\u001b[0m \u001b[43mf\u001b[49m\u001b[38;5;241;43m.\u001b[39;49m\u001b[43mwrite\u001b[49m\u001b[43m(\u001b[49m\u001b[38;5;124;43m'\u001b[39;49m\u001b[38;5;124;43mAkash\u001b[39;49m\u001b[38;5;124;43m'\u001b[39;49m\u001b[43m)\u001b[49m\u001b[38;5;241;43m.\u001b[39;49m\u001b[43mreplace\u001b[49m(\u001b[38;5;124m\"\u001b[39m\u001b[38;5;124mgoogle\u001b[39m\u001b[38;5;124m\"\u001b[39m)\n",
      "\u001b[1;31mAttributeError\u001b[0m: 'int' object has no attribute 'replace'"
     ]
    }
   ],
   "source": [
    "f.write('Akash').replace(\"google\")"
   ]
  },
  {
   "cell_type": "code",
   "execution_count": 46,
   "id": "f688c04a",
   "metadata": {},
   "outputs": [],
   "source": [
    "for file in f:\n",
    "    if file == \"Google\":\n",
    "        file.replace(\"Akash\")"
   ]
  },
  {
   "cell_type": "code",
   "execution_count": 47,
   "id": "a06161e0",
   "metadata": {},
   "outputs": [
    {
     "data": {
      "text/plain": [
       "''"
      ]
     },
     "execution_count": 47,
     "metadata": {},
     "output_type": "execute_result"
    }
   ],
   "source": [
    "f.read()"
   ]
  },
  {
   "cell_type": "code",
   "execution_count": 48,
   "id": "d46b93c9",
   "metadata": {},
   "outputs": [
    {
     "data": {
      "text/plain": [
       "0"
      ]
     },
     "execution_count": 48,
     "metadata": {},
     "output_type": "execute_result"
    }
   ],
   "source": [
    "f.seek(0)"
   ]
  },
  {
   "cell_type": "code",
   "execution_count": 53,
   "id": "52fd28ea",
   "metadata": {},
   "outputs": [],
   "source": [
    "for file in f:\n",
    "    print(file)"
   ]
  },
  {
   "cell_type": "code",
   "execution_count": 54,
   "id": "ec70c00e",
   "metadata": {},
   "outputs": [
    {
     "data": {
      "text/plain": [
       "''"
      ]
     },
     "execution_count": 54,
     "metadata": {},
     "output_type": "execute_result"
    }
   ],
   "source": [
    "f.read()"
   ]
  },
  {
   "cell_type": "code",
   "execution_count": 55,
   "id": "af1092ff",
   "metadata": {},
   "outputs": [
    {
     "data": {
      "text/plain": [
       "0"
      ]
     },
     "execution_count": 55,
     "metadata": {},
     "output_type": "execute_result"
    }
   ],
   "source": [
    "f.seek(0)"
   ]
  },
  {
   "cell_type": "code",
   "execution_count": 56,
   "id": "2ea77bf6",
   "metadata": {},
   "outputs": [
    {
     "data": {
      "text/plain": [
       "'GooglAkash (/ˈɡuːɡəl/ (listen)) is an American multinational technology company focusing on online advertising, search engine technology, cloud computing, computer software, quantum computing, e-commerce, artificial intelligence,[9] and consumer electronics. It has been referred to as \"the most powerful company in the world\"[10] and one of the world\\'s most valuable brands due to its market dominance, data collection, and technological advantages in the area of artificial intelligence.[11][12][13] Its parent company Alphabet is considered one of the Big Five American information technology companies, alongside Amazon, Apple, Meta, and Microsoft.\\n\\nGoogle was founded on September 4, 1998, by Larry Page and Sergey Brin while they were PhD students at Stanford University in California. Together they own about 14% of its publicly listed shares and control 56% of its stockholder voting power through super-voting stock. The company went public via an initial public offering (IPO) in 2004. In 2015, Google was reorganized as a wholly owned subsidiary of Alphabet Inc. Google is Alphabet\\'s largest subsidiary and is a holding company for Alphabet\\'s Internet properties and interests. Sundar Pichai was appointed CEO of Google on October 24, 2015, replacing Larry Page, who became the CEO of Alphabet. On December 3, 2019, Pichai also became the CEO of Alphabet.[14]\\n\\nThe company has since rapidly grown to offer a multitude of products and services beyond Google Search, many of which hold dominant market positions. These products address a wide range of use cases, including email (Gmail), navigation (Waze & Maps), cloud computing (Cloud), web browsing (Chrome), video sharing (YouTube), productivity (Workspace), operating systems (Android), cloud storage (Drive), language translation (Translate), photo storage (Photos), video calling (Meet), smart home (Nest), smartphones (Pixel), wearable technology (Pixel Watch & Fitbit), music streaming (YouTube Music), video on demand (YouTube TV), artificial intelligence (Google Assistant), machine learning APIs (TensorFlow), AI chips (TPU), and more. Discontinued Google products include gaming (Stadia), Glass,[citation needed] Google+, Reader, Play Music, Nexus, Hangouts, and Inbox by Gmail.[15][16]\\n\\nGoogle\\'s other ventures outside of Internet services and consumer electronics include quantum computing (Sycamore), self-driving cars (Waymo, formerly the Google Self-Driving Car Project), smart cities (Sidewalk Labs), and transformer models (Google Brain).[17]AkasgAkash'"
      ]
     },
     "execution_count": 56,
     "metadata": {},
     "output_type": "execute_result"
    }
   ],
   "source": [
    "f.read()"
   ]
  },
  {
   "cell_type": "code",
   "execution_count": 57,
   "id": "1ff2b50a",
   "metadata": {},
   "outputs": [],
   "source": [
    "l = f.readlines()"
   ]
  },
  {
   "cell_type": "code",
   "execution_count": 58,
   "id": "671b018b",
   "metadata": {},
   "outputs": [
    {
     "data": {
      "text/plain": [
       "[]"
      ]
     },
     "execution_count": 58,
     "metadata": {},
     "output_type": "execute_result"
    }
   ],
   "source": [
    "l"
   ]
  },
  {
   "cell_type": "code",
   "execution_count": 59,
   "id": "9effbd50",
   "metadata": {},
   "outputs": [
    {
     "data": {
      "text/plain": [
       "0"
      ]
     },
     "execution_count": 59,
     "metadata": {},
     "output_type": "execute_result"
    }
   ],
   "source": [
    "f.seek(0)"
   ]
  },
  {
   "cell_type": "code",
   "execution_count": 60,
   "id": "3ca93a25",
   "metadata": {},
   "outputs": [],
   "source": [
    "l = f.readlines()"
   ]
  },
  {
   "cell_type": "code",
   "execution_count": 62,
   "id": "cfde4454",
   "metadata": {},
   "outputs": [],
   "source": [
    "f = open(\"akash.txt\",\"r+\",encoding = \"utf-8\")\n",
    "l = f.readlines()"
   ]
  },
  {
   "cell_type": "code",
   "execution_count": 63,
   "id": "339468b8",
   "metadata": {},
   "outputs": [
    {
     "name": "stdout",
     "output_type": "stream",
     "text": [
      "['GooglAkash (/ˈɡuːɡəl/ (listen)) is an American multinational technology company focusing on online advertising, search engine technology, cloud computing, computer software, quantum computing, e-commerce, artificial intelligence,[9] and consumer electronics. It has been referred to as \"the most powerful company in the world\"[10] and one of the world\\'s most valuable brands due to its market dominance, data collection, and technological advantages in the area of artificial intelligence.[11][12][13] Its parent company Alphabet is considered one of the Big Five American information technology companies, alongside Amazon, Apple, Meta, and Microsoft.\\n', '\\n', \"Google was founded on September 4, 1998, by Larry Page and Sergey Brin while they were PhD students at Stanford University in California. Together they own about 14% of its publicly listed shares and control 56% of its stockholder voting power through super-voting stock. The company went public via an initial public offering (IPO) in 2004. In 2015, Google was reorganized as a wholly owned subsidiary of Alphabet Inc. Google is Alphabet's largest subsidiary and is a holding company for Alphabet's Internet properties and interests. Sundar Pichai was appointed CEO of Google on October 24, 2015, replacing Larry Page, who became the CEO of Alphabet. On December 3, 2019, Pichai also became the CEO of Alphabet.[14]\\n\", '\\n', 'The company has since rapidly grown to offer a multitude of products and services beyond Google Search, many of which hold dominant market positions. These products address a wide range of use cases, including email (Gmail), navigation (Waze & Maps), cloud computing (Cloud), web browsing (Chrome), video sharing (YouTube), productivity (Workspace), operating systems (Android), cloud storage (Drive), language translation (Translate), photo storage (Photos), video calling (Meet), smart home (Nest), smartphones (Pixel), wearable technology (Pixel Watch & Fitbit), music streaming (YouTube Music), video on demand (YouTube TV), artificial intelligence (Google Assistant), machine learning APIs (TensorFlow), AI chips (TPU), and more. Discontinued Google products include gaming (Stadia), Glass,[citation needed] Google+, Reader, Play Music, Nexus, Hangouts, and Inbox by Gmail.[15][16]\\n', '\\n', \"Google's other ventures outside of Internet services and consumer electronics include quantum computing (Sycamore), self-driving cars (Waymo, formerly the Google Self-Driving Car Project), smart cities (Sidewalk Labs), and transformer models (Google Brain).[17]AkasgAkash\"]\n"
     ]
    }
   ],
   "source": [
    "print(l)"
   ]
  },
  {
   "cell_type": "code",
   "execution_count": 64,
   "id": "2d0b3de0",
   "metadata": {},
   "outputs": [
    {
     "data": {
      "text/plain": [
       "'GooglAkash (/ˈɡuːɡəl/ (listen)) is an American multinational technology company focusing on online advertising, search engine technology, cloud computing, computer software, quantum computing, e-commerce, artificial intelligence,[9] and consumer electronics. It has been referred to as \"the most powerful company in the world\"[10] and one of the world\\'s most valuable brands due to its market dominance, data collection, and technological advantages in the area of artificial intelligence.[11][12][13] Its parent company Alphabet is considered one of the Big Five American information technology companies, alongside Amazon, Apple, Meta, and Microsoft.\\n'"
      ]
     },
     "execution_count": 64,
     "metadata": {},
     "output_type": "execute_result"
    }
   ],
   "source": [
    "l[0]"
   ]
  },
  {
   "cell_type": "code",
   "execution_count": 77,
   "id": "ddf844d1",
   "metadata": {},
   "outputs": [
    {
     "data": {
      "text/plain": [
       "'GooglAkash (/ˈɡuːɡəl/ (listen)) is an American multinational technology company focusing on online advertising, search engine technology, cloud computing, computer software, quantum computing, e-commerce, artificial intelligence,[9] and consumer electronics. It has been referred to as \"the most powerful company in the world\"[10] and one of the world\\'s most valuable brands due to its market dominance, data collection, and technological advantages in the area of artificial intelligence.[11][12][13] Its parent company Alphabet is considered one of the Big Five American information technology companies, alongside Amazon, Apple, Meta, and Microsoft.\\n'"
      ]
     },
     "execution_count": 77,
     "metadata": {},
     "output_type": "execute_result"
    }
   ],
   "source": [
    "l[0]"
   ]
  },
  {
   "cell_type": "code",
   "execution_count": 84,
   "id": "dcbc1e28",
   "metadata": {},
   "outputs": [
    {
     "name": "stdout",
     "output_type": "stream",
     "text": [
      "GooglAkash\n",
      "(/ˈɡuːɡəl/\n",
      "(listen))\n",
      "is\n",
      "an\n",
      "American\n",
      "multinational\n",
      "technology\n",
      "company\n",
      "focusing\n",
      "on\n",
      "online\n",
      "advertising,\n",
      "search\n",
      "engine\n",
      "technology,\n",
      "cloud\n",
      "computing,\n",
      "computer\n",
      "software,\n",
      "quantum\n",
      "computing,\n",
      "e-commerce,\n",
      "artificial\n",
      "intelligence,[9]\n",
      "and\n",
      "consumer\n",
      "electronics.\n",
      "It\n",
      "has\n",
      "been\n",
      "referred\n",
      "to\n",
      "as\n",
      "\"the\n",
      "most\n",
      "powerful\n",
      "company\n",
      "in\n",
      "the\n",
      "world\"[10]\n",
      "and\n",
      "one\n",
      "of\n",
      "the\n",
      "world's\n",
      "most\n",
      "valuable\n",
      "brands\n",
      "due\n",
      "to\n",
      "its\n",
      "market\n",
      "dominance,\n",
      "data\n",
      "collection,\n",
      "and\n",
      "technological\n",
      "advantages\n",
      "in\n",
      "the\n",
      "area\n",
      "of\n",
      "artificial\n",
      "intelligence.[11][12][13]\n",
      "Its\n",
      "parent\n",
      "company\n",
      "Alphabet\n",
      "is\n",
      "considered\n",
      "one\n",
      "of\n",
      "the\n",
      "Big\n",
      "Five\n",
      "American\n",
      "information\n",
      "technology\n",
      "companies,\n",
      "alongside\n",
      "Amazon,\n",
      "Apple,\n",
      "Meta,\n",
      "and\n",
      "Microsoft.\n"
     ]
    }
   ],
   "source": [
    "a = l[0].split()\n",
    "for word in a:\n",
    "    print(word)"
   ]
  },
  {
   "cell_type": "code",
   "execution_count": 81,
   "id": "566a6101",
   "metadata": {},
   "outputs": [
    {
     "name": "stdout",
     "output_type": "stream",
     "text": [
      "G\n",
      "(\n",
      "(\n",
      "i\n",
      "a\n",
      "A\n",
      "m\n",
      "t\n",
      "c\n",
      "f\n",
      "o\n",
      "o\n",
      "a\n",
      "s\n",
      "e\n",
      "t\n",
      "c\n",
      "c\n",
      "c\n",
      "s\n",
      "q\n",
      "c\n",
      "e\n",
      "a\n",
      "i\n",
      "a\n",
      "c\n",
      "e\n",
      "I\n",
      "h\n",
      "b\n",
      "r\n",
      "t\n",
      "a\n",
      "\"\n",
      "m\n",
      "p\n",
      "c\n",
      "i\n",
      "t\n",
      "w\n",
      "a\n",
      "o\n",
      "o\n",
      "t\n",
      "w\n",
      "m\n",
      "v\n",
      "b\n",
      "d\n",
      "t\n",
      "i\n",
      "m\n",
      "d\n",
      "d\n",
      "c\n",
      "a\n",
      "t\n",
      "a\n",
      "i\n",
      "t\n",
      "a\n",
      "o\n",
      "a\n",
      "i\n",
      "I\n",
      "p\n",
      "c\n",
      "A\n",
      "i\n",
      "c\n",
      "o\n",
      "o\n",
      "t\n",
      "B\n",
      "F\n",
      "A\n",
      "i\n",
      "t\n",
      "c\n",
      "a\n",
      "A\n",
      "A\n",
      "M\n",
      "a\n",
      "M\n"
     ]
    }
   ],
   "source": [
    "for x in a:\n",
    "    print(x[0])"
   ]
  },
  {
   "cell_type": "code",
   "execution_count": 85,
   "id": "b17accf7",
   "metadata": {},
   "outputs": [],
   "source": [
    "import os"
   ]
  },
  {
   "cell_type": "code",
   "execution_count": 86,
   "id": "e78ee76f",
   "metadata": {},
   "outputs": [],
   "source": [
    "os.remove(\"test.txt\")"
   ]
  },
  {
   "cell_type": "code",
   "execution_count": 87,
   "id": "f3a58fc1",
   "metadata": {},
   "outputs": [
    {
     "name": "stdout",
     "output_type": "stream",
     "text": [
      " Volume in drive C is Windows\n",
      " Volume Serial Number is 98FA-EFFA\n",
      "\n",
      " Directory of C:\\Users\\akash\n",
      "\n",
      "27-02-2023  18:20    <DIR>          .\n",
      "06-10-2022  12:03    <DIR>          ..\n",
      "17-02-2023  12:27             3,007 .bash_history\n",
      "14-10-2022  11:56    <DIR>          .conda\n",
      "14-10-2022  11:56                25 .condarc\n",
      "14-10-2022  11:56    <DIR>          .continuum\n",
      "09-02-2023  15:06               219 .gitconfig\n",
      "27-02-2023  10:59    <DIR>          .ipynb_checkpoints\n",
      "14-10-2022  11:50    <DIR>          .ipython\n",
      "14-10-2022  11:52    <DIR>          .jupyter\n",
      "07-12-2022  17:18    <DIR>          .keras\n",
      "10-02-2023  12:31                20 .lesshst\n",
      "17-10-2022  12:24    <DIR>          .matplotlib\n",
      "12-01-2023  11:12                19 .popsql.json\n",
      "17-10-2022  12:20                 0 .python_history\n",
      "07-12-2022  12:56    <DIR>          .spyder-py3\n",
      "08-12-2022  21:44    <DIR>          .ssh\n",
      "07-02-2023  12:09    <DIR>          .VirtualBox\n",
      "07-10-2022  14:08    <DIR>          .vscode\n",
      "22-02-2023  10:24    <DIR>          .wdm\n",
      "22-02-2023  21:37            67,811 12-02-23_scrapping.ipynb\n",
      "02-02-2023  14:56    <DIR>          agent\n",
      "27-02-2023  16:26             2,542 akash.txt\n",
      "24-11-2022  22:04             1,867 Algo.ipynb\n",
      "24-11-2022  14:55             5,308 alkms.ipynb\n",
      "14-10-2022  11:46    <DIR>          anaconda3\n",
      "29-10-2022  22:39           144,298 battery-report.html\n",
      "15-02-2023  22:08            29,116 Beautiful_soap.ipynb\n",
      "13-02-2023  18:09             6,327 Bounding_box.ipynb\n",
      "09-02-2023  11:27                12 c.txt\n",
      "26-10-2022  21:41             4,772 captcha.png\n",
      "07-12-2022  21:46    <DIR>          cbp-dashboard\n",
      "02-02-2023  15:08    <DIR>          cd\n",
      "06-10-2022  11:15    <DIR>          Contacts\n",
      "18-02-2023  16:18               317 data.csv\n",
      "25-10-2022  12:57            20,499 Data_Manipulation.ipynb\n",
      "25-10-2022  14:31             6,567 Data_Preprocessing.ipynb\n",
      "21-10-2022  11:40    <DIR>          dataset\n",
      "22-02-2023  15:58             4,680 details.csv\n",
      "25-10-2022  15:50    <DIR>          Documents\n",
      "22-02-2023  22:04    <DIR>          Downloads\n",
      "13-02-2023  18:02             3,237 Draw_Bounding_box.ipynb\n",
      "29-11-2022  16:37            18,124 dsa.ipynb\n",
      "05-12-2022  19:32            13,804 Dsa_1.ipynb\n",
      "06-10-2022  11:15    <DIR>          Favorites\n",
      "27-02-2023  16:40           100,311 File_handling.ipynb\n",
      "24-11-2022  15:11             7,265 Geometric.ipynb\n",
      "07-12-2022  14:57             5,343 Geometric_Reasoning.ipynb\n",
      "07-02-2023  14:38    <DIR>          git\n",
      "26-10-2022  15:58           371,822 Google_bing_baidu.ipynb\n",
      "27-10-2022  12:31         2,579,652 icrambler.ipynb\n",
      "13-02-2023  15:34             6,747 iliyas.ipynb\n",
      "26-10-2022  22:34    <DIR>          images\n",
      "17-02-2023  12:21           738,301 Implementation_one_scrap.ipynb\n",
      "20-10-2022  14:22    <DIR>          Jedi\n",
      "27-10-2022  12:24             4,723 Linear_Algebra.ipynb\n",
      "06-10-2022  11:15    <DIR>          Links\n",
      "27-02-2023  11:21                 0 microsoft.txt\n",
      "28-10-2022  17:13             3,798 modified.ipynb\n",
      "28-10-2022  16:23             4,743 modified_1.ipynb\n",
      "26-10-2022  22:18           288,629 mogili\n",
      "06-10-2022  11:15    <DIR>          Music\n",
      "31-01-2023  17:36    <DIR>          myproject\n",
      "08-12-2022  10:47    <DIR>          OneDrive\n",
      "27-02-2023  08:35    <DIR>          OneDrive - Purecode Software\n",
      "13-02-2023  15:21         1,200,251 output_image.jpg\n",
      "26-10-2022  21:41                 0 page_source\n",
      "19-02-2023  15:13           175,492 pandas.ipynb\n",
      "30-01-2023  09:19    <DIR>          Pictures\n",
      "08-12-2022  12:37            28,580 pract.ipynb\n",
      "08-12-2022  12:35             7,494 Pract_Session.ipynb\n",
      "20-10-2022  17:26               477 prime.py\n",
      "07-02-2023  14:46    <DIR>          project1\n",
      "09-02-2023  14:32    <DIR>          projectdemo\n",
      "07-02-2023  14:38    <DIR>          projects\n",
      "31-10-2022  12:48             3,192 Pytorch.ipynb\n",
      "22-02-2023  14:59             4,523 result2.csv\n",
      "06-10-2022  11:15    <DIR>          Saved Games\n",
      "06-10-2022  11:24    <DIR>          Searches\n",
      "16-02-2023  14:56            55,284 Selenium_Webscrapping.ipynb\n",
      "31-01-2023  12:47    <DIR>          test\n",
      "17-02-2023  16:07         6,856,355 test.csv\n",
      "17-02-2023  11:16           153,489 test.json\n",
      "19-02-2023  14:56         6,856,355 test1.csv\n",
      "19-02-2023  14:56         6,856,197 test2.csv\n",
      "27-02-2023  02:44                47 test2.txt\n",
      "19-02-2023  14:58         6,617,174 test3.csv\n",
      "27-02-2023  02:56                15 test3.txt\n",
      "19-02-2023  14:59           698,057 test4.csv\n",
      "19-02-2023  15:01         1,203,858 test5.csv\n",
      "17-02-2023  11:06           153,489 text.txt\n",
      "27-02-2023  02:41                34 text1.txt\n",
      "14-10-2022  11:52             1,844 Untitled.ipynb\n",
      "07-12-2022  13:13                 0 untitled.txt\n",
      "14-10-2022  11:56             1,592 Untitled1.ipynb\n",
      "26-10-2022  13:14           144,130 Untitled10.ipynb\n",
      "26-10-2022  14:47         1,584,361 Untitled11.ipynb\n",
      "26-10-2022  14:49            11,376 Untitled12.ipynb\n",
      "26-10-2022  16:12               988 Untitled13.ipynb\n",
      "26-10-2022  16:32            21,312 Untitled14.ipynb\n",
      "26-10-2022  16:51             3,913 Untitled15.ipynb\n",
      "26-10-2022  16:54                72 Untitled16.ipynb\n",
      "26-10-2022  22:16             5,253 Untitled17.ipynb\n",
      "26-10-2022  22:24             3,286 Untitled18.ipynb\n",
      "30-10-2022  17:14                72 Untitled19.ipynb\n",
      "17-10-2022  10:38               589 Untitled2.ipynb\n",
      "31-10-2022  10:14                72 Untitled20.ipynb\n",
      "31-10-2022  11:14                72 Untitled21.ipynb\n",
      "03-11-2022  10:03               589 Untitled22.ipynb\n",
      "03-11-2022  12:57                72 Untitled23.ipynb\n",
      "06-11-2022  23:16            14,199 Untitled24.ipynb\n",
      "09-11-2022  21:43             4,727 Untitled25.ipynb\n",
      "10-11-2022  11:22             1,455 Untitled26.ipynb\n",
      "13-11-2022  12:52               589 Untitled27.ipynb\n",
      "13-11-2022  12:52               589 Untitled27-Copy1.ipynb\n",
      "16-11-2022  22:21             1,601 Untitled28.ipynb\n",
      "24-11-2022  15:02             5,039 Untitled29.ipynb\n",
      "20-10-2022  17:29           371,517 Untitled3.ipynb\n",
      "24-11-2022  21:26                72 Untitled30.ipynb\n",
      "25-11-2022  16:53             1,766 Untitled31.ipynb\n",
      "30-11-2022  12:56             5,017 Untitled32.ipynb\n",
      "30-11-2022  14:16               589 Untitled33.ipynb\n",
      "02-12-2022  12:37            71,090 Untitled34.ipynb\n",
      "06-12-2022  11:24               589 Untitled35.ipynb\n",
      "07-12-2022  17:21            10,300 Untitled36.ipynb\n",
      "07-12-2022  13:13                72 Untitled37.ipynb\n",
      "12-01-2023  12:15             1,260 Untitled38.ipynb\n",
      "18-01-2023  14:00               589 Untitled39.ipynb\n",
      "21-10-2022  11:39            71,975 Untitled4.ipynb\n",
      "19-01-2023  10:09               589 Untitled40.ipynb\n",
      "13-02-2023  11:54            12,352 Untitled41.ipynb\n",
      "13-02-2023  12:34            10,232 Untitled42.ipynb\n",
      "13-02-2023  13:11             2,518 Untitled43.ipynb\n",
      "13-02-2023  14:32             8,329 Untitled44.ipynb\n",
      "13-02-2023  15:34            94,593 Untitled45.ipynb\n",
      "13-02-2023  18:09             9,082 Untitled46.ipynb\n",
      "13-02-2023  16:49             5,115 Untitled47.ipynb\n",
      "13-02-2023  17:09             2,300 Untitled48.ipynb\n",
      "13-02-2023  18:15             6,552 Untitled49.ipynb\n",
      "25-10-2022  09:50            13,170 Untitled5.ipynb\n",
      "14-02-2023  10:45                72 Untitled50.ipynb\n",
      "14-02-2023  13:10             3,662 Untitled51.ipynb\n",
      "14-02-2023  15:04                72 Untitled52.ipynb\n",
      "15-02-2023  22:00           404,483 Untitled53.ipynb\n",
      "15-02-2023  22:19             7,268 Untitled54.ipynb\n",
      "16-02-2023  11:16             1,525 Untitled55.ipynb\n",
      "16-02-2023  17:51           336,753 Untitled56.ipynb\n",
      "16-02-2023  14:53             9,321 Untitled57.ipynb\n",
      "17-02-2023  16:40           239,343 Untitled58.ipynb\n",
      "17-02-2023  17:03           110,428 Untitled59.ipynb\n",
      "25-10-2022  10:01                72 Untitled6.ipynb\n",
      "18-02-2023  16:23             9,373 Untitled60.ipynb\n",
      "22-02-2023  16:24            44,960 Untitled61.ipynb\n",
      "22-02-2023  16:43               944 Untitled62.ipynb\n",
      "27-02-2023  02:33             2,851 Untitled63.ipynb\n",
      "27-02-2023  02:41            22,791 Untitled64.ipynb\n",
      "27-02-2023  11:13             9,138 Untitled65.ipynb\n",
      "28-10-2022  16:06               890 Untitled7.ipynb\n",
      "26-10-2022  11:02                72 Untitled8.ipynb\n",
      "26-10-2022  12:54           232,368 Untitled9.ipynb\n",
      "17-10-2022  09:34    <DIR>          Videos\n",
      "30-01-2023  10:35            15,650 Web_scrappig.ipynb\n",
      "14-02-2023  17:04             3,164 Web_scrapping with python_crash course.ipynb\n",
      "16-02-2023  14:58            15,855 Web_Scrapping_selenium.ipynb\n",
      "14-12-2022  17:04             9,084 xml_count.ipynb\n",
      "09-11-2022  21:51             1,171 Xml_remover.ipynb\n",
      "09-02-2023  12:14                21 z.txt\n",
      "             128 File(s)     39,303,059 bytes\n",
      "              39 Dir(s)  189,056,995,328 bytes free\n"
     ]
    }
   ],
   "source": [
    "%ls"
   ]
  },
  {
   "cell_type": "code",
   "execution_count": 88,
   "id": "cf00013b",
   "metadata": {},
   "outputs": [],
   "source": [
    "os.remove(\"text1.txt\")"
   ]
  },
  {
   "cell_type": "code",
   "execution_count": 89,
   "id": "30f533c6",
   "metadata": {},
   "outputs": [
    {
     "name": "stdout",
     "output_type": "stream",
     "text": [
      " Volume in drive C is Windows\n",
      " Volume Serial Number is 98FA-EFFA\n",
      "\n",
      " Directory of C:\\Users\\akash\n",
      "\n",
      "27-02-2023  18:21    <DIR>          .\n",
      "06-10-2022  12:03    <DIR>          ..\n",
      "17-02-2023  12:27             3,007 .bash_history\n",
      "14-10-2022  11:56    <DIR>          .conda\n",
      "14-10-2022  11:56                25 .condarc\n",
      "14-10-2022  11:56    <DIR>          .continuum\n",
      "09-02-2023  15:06               219 .gitconfig\n",
      "27-02-2023  10:59    <DIR>          .ipynb_checkpoints\n",
      "14-10-2022  11:50    <DIR>          .ipython\n",
      "14-10-2022  11:52    <DIR>          .jupyter\n",
      "07-12-2022  17:18    <DIR>          .keras\n",
      "10-02-2023  12:31                20 .lesshst\n",
      "17-10-2022  12:24    <DIR>          .matplotlib\n",
      "12-01-2023  11:12                19 .popsql.json\n",
      "17-10-2022  12:20                 0 .python_history\n",
      "07-12-2022  12:56    <DIR>          .spyder-py3\n",
      "08-12-2022  21:44    <DIR>          .ssh\n",
      "07-02-2023  12:09    <DIR>          .VirtualBox\n",
      "07-10-2022  14:08    <DIR>          .vscode\n",
      "22-02-2023  10:24    <DIR>          .wdm\n",
      "22-02-2023  21:37            67,811 12-02-23_scrapping.ipynb\n",
      "02-02-2023  14:56    <DIR>          agent\n",
      "27-02-2023  16:26             2,542 akash.txt\n",
      "24-11-2022  22:04             1,867 Algo.ipynb\n",
      "24-11-2022  14:55             5,308 alkms.ipynb\n",
      "14-10-2022  11:46    <DIR>          anaconda3\n",
      "29-10-2022  22:39           144,298 battery-report.html\n",
      "15-02-2023  22:08            29,116 Beautiful_soap.ipynb\n",
      "13-02-2023  18:09             6,327 Bounding_box.ipynb\n",
      "09-02-2023  11:27                12 c.txt\n",
      "26-10-2022  21:41             4,772 captcha.png\n",
      "07-12-2022  21:46    <DIR>          cbp-dashboard\n",
      "02-02-2023  15:08    <DIR>          cd\n",
      "06-10-2022  11:15    <DIR>          Contacts\n",
      "18-02-2023  16:18               317 data.csv\n",
      "25-10-2022  12:57            20,499 Data_Manipulation.ipynb\n",
      "25-10-2022  14:31             6,567 Data_Preprocessing.ipynb\n",
      "21-10-2022  11:40    <DIR>          dataset\n",
      "22-02-2023  15:58             4,680 details.csv\n",
      "25-10-2022  15:50    <DIR>          Documents\n",
      "22-02-2023  22:04    <DIR>          Downloads\n",
      "13-02-2023  18:02             3,237 Draw_Bounding_box.ipynb\n",
      "29-11-2022  16:37            18,124 dsa.ipynb\n",
      "05-12-2022  19:32            13,804 Dsa_1.ipynb\n",
      "06-10-2022  11:15    <DIR>          Favorites\n",
      "27-02-2023  18:20           111,408 File_handling.ipynb\n",
      "24-11-2022  15:11             7,265 Geometric.ipynb\n",
      "07-12-2022  14:57             5,343 Geometric_Reasoning.ipynb\n",
      "07-02-2023  14:38    <DIR>          git\n",
      "26-10-2022  15:58           371,822 Google_bing_baidu.ipynb\n",
      "27-10-2022  12:31         2,579,652 icrambler.ipynb\n",
      "13-02-2023  15:34             6,747 iliyas.ipynb\n",
      "26-10-2022  22:34    <DIR>          images\n",
      "17-02-2023  12:21           738,301 Implementation_one_scrap.ipynb\n",
      "20-10-2022  14:22    <DIR>          Jedi\n",
      "27-10-2022  12:24             4,723 Linear_Algebra.ipynb\n",
      "06-10-2022  11:15    <DIR>          Links\n",
      "27-02-2023  11:21                 0 microsoft.txt\n",
      "28-10-2022  17:13             3,798 modified.ipynb\n",
      "28-10-2022  16:23             4,743 modified_1.ipynb\n",
      "26-10-2022  22:18           288,629 mogili\n",
      "06-10-2022  11:15    <DIR>          Music\n",
      "31-01-2023  17:36    <DIR>          myproject\n",
      "08-12-2022  10:47    <DIR>          OneDrive\n",
      "27-02-2023  08:35    <DIR>          OneDrive - Purecode Software\n",
      "13-02-2023  15:21         1,200,251 output_image.jpg\n",
      "26-10-2022  21:41                 0 page_source\n",
      "19-02-2023  15:13           175,492 pandas.ipynb\n",
      "30-01-2023  09:19    <DIR>          Pictures\n",
      "08-12-2022  12:37            28,580 pract.ipynb\n",
      "08-12-2022  12:35             7,494 Pract_Session.ipynb\n",
      "20-10-2022  17:26               477 prime.py\n",
      "07-02-2023  14:46    <DIR>          project1\n",
      "09-02-2023  14:32    <DIR>          projectdemo\n",
      "07-02-2023  14:38    <DIR>          projects\n",
      "31-10-2022  12:48             3,192 Pytorch.ipynb\n",
      "22-02-2023  14:59             4,523 result2.csv\n",
      "06-10-2022  11:15    <DIR>          Saved Games\n",
      "06-10-2022  11:24    <DIR>          Searches\n",
      "16-02-2023  14:56            55,284 Selenium_Webscrapping.ipynb\n",
      "31-01-2023  12:47    <DIR>          test\n",
      "17-02-2023  16:07         6,856,355 test.csv\n",
      "17-02-2023  11:16           153,489 test.json\n",
      "19-02-2023  14:56         6,856,355 test1.csv\n",
      "19-02-2023  14:56         6,856,197 test2.csv\n",
      "27-02-2023  02:44                47 test2.txt\n",
      "19-02-2023  14:58         6,617,174 test3.csv\n",
      "27-02-2023  02:56                15 test3.txt\n",
      "19-02-2023  14:59           698,057 test4.csv\n",
      "19-02-2023  15:01         1,203,858 test5.csv\n",
      "17-02-2023  11:06           153,489 text.txt\n",
      "14-10-2022  11:52             1,844 Untitled.ipynb\n",
      "07-12-2022  13:13                 0 untitled.txt\n",
      "14-10-2022  11:56             1,592 Untitled1.ipynb\n",
      "26-10-2022  13:14           144,130 Untitled10.ipynb\n",
      "26-10-2022  14:47         1,584,361 Untitled11.ipynb\n",
      "26-10-2022  14:49            11,376 Untitled12.ipynb\n",
      "26-10-2022  16:12               988 Untitled13.ipynb\n",
      "26-10-2022  16:32            21,312 Untitled14.ipynb\n",
      "26-10-2022  16:51             3,913 Untitled15.ipynb\n",
      "26-10-2022  16:54                72 Untitled16.ipynb\n",
      "26-10-2022  22:16             5,253 Untitled17.ipynb\n",
      "26-10-2022  22:24             3,286 Untitled18.ipynb\n",
      "30-10-2022  17:14                72 Untitled19.ipynb\n",
      "17-10-2022  10:38               589 Untitled2.ipynb\n",
      "31-10-2022  10:14                72 Untitled20.ipynb\n",
      "31-10-2022  11:14                72 Untitled21.ipynb\n",
      "03-11-2022  10:03               589 Untitled22.ipynb\n",
      "03-11-2022  12:57                72 Untitled23.ipynb\n",
      "06-11-2022  23:16            14,199 Untitled24.ipynb\n",
      "09-11-2022  21:43             4,727 Untitled25.ipynb\n",
      "10-11-2022  11:22             1,455 Untitled26.ipynb\n",
      "13-11-2022  12:52               589 Untitled27.ipynb\n",
      "13-11-2022  12:52               589 Untitled27-Copy1.ipynb\n",
      "16-11-2022  22:21             1,601 Untitled28.ipynb\n",
      "24-11-2022  15:02             5,039 Untitled29.ipynb\n",
      "20-10-2022  17:29           371,517 Untitled3.ipynb\n",
      "24-11-2022  21:26                72 Untitled30.ipynb\n",
      "25-11-2022  16:53             1,766 Untitled31.ipynb\n",
      "30-11-2022  12:56             5,017 Untitled32.ipynb\n",
      "30-11-2022  14:16               589 Untitled33.ipynb\n",
      "02-12-2022  12:37            71,090 Untitled34.ipynb\n",
      "06-12-2022  11:24               589 Untitled35.ipynb\n",
      "07-12-2022  17:21            10,300 Untitled36.ipynb\n",
      "07-12-2022  13:13                72 Untitled37.ipynb\n",
      "12-01-2023  12:15             1,260 Untitled38.ipynb\n",
      "18-01-2023  14:00               589 Untitled39.ipynb\n",
      "21-10-2022  11:39            71,975 Untitled4.ipynb\n",
      "19-01-2023  10:09               589 Untitled40.ipynb\n",
      "13-02-2023  11:54            12,352 Untitled41.ipynb\n",
      "13-02-2023  12:34            10,232 Untitled42.ipynb\n",
      "13-02-2023  13:11             2,518 Untitled43.ipynb\n",
      "13-02-2023  14:32             8,329 Untitled44.ipynb\n",
      "13-02-2023  15:34            94,593 Untitled45.ipynb\n",
      "13-02-2023  18:09             9,082 Untitled46.ipynb\n",
      "13-02-2023  16:49             5,115 Untitled47.ipynb\n",
      "13-02-2023  17:09             2,300 Untitled48.ipynb\n",
      "13-02-2023  18:15             6,552 Untitled49.ipynb\n",
      "25-10-2022  09:50            13,170 Untitled5.ipynb\n",
      "14-02-2023  10:45                72 Untitled50.ipynb\n",
      "14-02-2023  13:10             3,662 Untitled51.ipynb\n",
      "14-02-2023  15:04                72 Untitled52.ipynb\n",
      "15-02-2023  22:00           404,483 Untitled53.ipynb\n",
      "15-02-2023  22:19             7,268 Untitled54.ipynb\n",
      "16-02-2023  11:16             1,525 Untitled55.ipynb\n",
      "16-02-2023  17:51           336,753 Untitled56.ipynb\n",
      "16-02-2023  14:53             9,321 Untitled57.ipynb\n",
      "17-02-2023  16:40           239,343 Untitled58.ipynb\n",
      "17-02-2023  17:03           110,428 Untitled59.ipynb\n",
      "25-10-2022  10:01                72 Untitled6.ipynb\n",
      "18-02-2023  16:23             9,373 Untitled60.ipynb\n",
      "22-02-2023  16:24            44,960 Untitled61.ipynb\n",
      "22-02-2023  16:43               944 Untitled62.ipynb\n",
      "27-02-2023  02:33             2,851 Untitled63.ipynb\n",
      "27-02-2023  02:41            22,791 Untitled64.ipynb\n",
      "27-02-2023  11:13             9,138 Untitled65.ipynb\n",
      "28-10-2022  16:06               890 Untitled7.ipynb\n",
      "26-10-2022  11:02                72 Untitled8.ipynb\n",
      "26-10-2022  12:54           232,368 Untitled9.ipynb\n",
      "17-10-2022  09:34    <DIR>          Videos\n",
      "30-01-2023  10:35            15,650 Web_scrappig.ipynb\n",
      "14-02-2023  17:04             3,164 Web_scrapping with python_crash course.ipynb\n",
      "16-02-2023  14:58            15,855 Web_Scrapping_selenium.ipynb\n",
      "14-12-2022  17:04             9,084 xml_count.ipynb\n",
      "09-11-2022  21:51             1,171 Xml_remover.ipynb\n",
      "09-02-2023  12:14                21 z.txt\n",
      "             127 File(s)     39,314,122 bytes\n",
      "              39 Dir(s)  189,056,831,488 bytes free\n"
     ]
    }
   ],
   "source": [
    "%ls"
   ]
  },
  {
   "cell_type": "code",
   "execution_count": 90,
   "id": "53f9af99",
   "metadata": {},
   "outputs": [
    {
     "data": {
      "text/plain": [
       "'C:\\\\Users\\\\akash'"
      ]
     },
     "execution_count": 90,
     "metadata": {},
     "output_type": "execute_result"
    }
   ],
   "source": [
    "pwd()"
   ]
  },
  {
   "cell_type": "code",
   "execution_count": 91,
   "id": "97eda2ae",
   "metadata": {},
   "outputs": [
    {
     "data": {
      "text/plain": [
       "['.bash_history',\n",
       " '.conda',\n",
       " '.condarc',\n",
       " '.continuum',\n",
       " '.git',\n",
       " '.gitconfig',\n",
       " '.ipynb_checkpoints',\n",
       " '.ipython',\n",
       " '.jupyter',\n",
       " '.keras',\n",
       " '.lesshst',\n",
       " '.matplotlib',\n",
       " '.popsql.json',\n",
       " '.python_history',\n",
       " '.spyder-py3',\n",
       " '.ssh',\n",
       " '.VirtualBox',\n",
       " '.vscode',\n",
       " '.wdm',\n",
       " '12-02-23_scrapping.ipynb',\n",
       " 'agent',\n",
       " 'akash.txt',\n",
       " 'Algo.ipynb',\n",
       " 'alkms.ipynb',\n",
       " 'anaconda3',\n",
       " 'AppData',\n",
       " 'Application Data',\n",
       " 'battery-report.html',\n",
       " 'Beautiful_soap.ipynb',\n",
       " 'Bounding_box.ipynb',\n",
       " 'c.txt',\n",
       " 'captcha.png',\n",
       " 'cbp-dashboard',\n",
       " 'cd',\n",
       " 'Contacts',\n",
       " 'Cookies',\n",
       " 'data.csv',\n",
       " 'dataset',\n",
       " 'Data_Manipulation.ipynb',\n",
       " 'Data_Preprocessing.ipynb',\n",
       " 'details.csv',\n",
       " 'Documents',\n",
       " 'Downloads',\n",
       " 'Draw_Bounding_box.ipynb',\n",
       " 'dsa.ipynb',\n",
       " 'Dsa_1.ipynb',\n",
       " 'Favorites',\n",
       " 'File_handling.ipynb',\n",
       " 'Geometric.ipynb',\n",
       " 'Geometric_Reasoning.ipynb',\n",
       " 'git',\n",
       " 'Google_bing_baidu.ipynb',\n",
       " 'icrambler.ipynb',\n",
       " 'iliyas.ipynb',\n",
       " 'images',\n",
       " 'Implementation_one_scrap.ipynb',\n",
       " 'Jedi',\n",
       " 'Linear_Algebra.ipynb',\n",
       " 'Links',\n",
       " 'Local Settings',\n",
       " 'microsoft.txt',\n",
       " 'modified.ipynb',\n",
       " 'modified_1.ipynb',\n",
       " 'mogili',\n",
       " 'Music',\n",
       " 'My Documents',\n",
       " 'myproject',\n",
       " 'NetHood',\n",
       " 'NTUSER.DAT',\n",
       " 'ntuser.dat.LOG1',\n",
       " 'ntuser.dat.LOG2',\n",
       " 'NTUSER.DAT{a2332f18-cdbf-11ec-8680-002248483d79}.TM.blf',\n",
       " 'NTUSER.DAT{a2332f18-cdbf-11ec-8680-002248483d79}.TMContainer00000000000000000001.regtrans-ms',\n",
       " 'NTUSER.DAT{a2332f18-cdbf-11ec-8680-002248483d79}.TMContainer00000000000000000002.regtrans-ms',\n",
       " 'ntuser.ini',\n",
       " 'OneDrive',\n",
       " 'OneDrive - Purecode Software',\n",
       " 'output_image.jpg',\n",
       " 'page_source',\n",
       " 'pandas.ipynb',\n",
       " 'Pictures',\n",
       " 'pract.ipynb',\n",
       " 'Pract_Session.ipynb',\n",
       " 'prime.py',\n",
       " 'PrintHood',\n",
       " 'project1',\n",
       " 'projectdemo',\n",
       " 'projects',\n",
       " 'Pytorch.ipynb',\n",
       " 'Recent',\n",
       " 'result2.csv',\n",
       " 'Saved Games',\n",
       " 'Searches',\n",
       " 'Selenium_Webscrapping.ipynb',\n",
       " 'SendTo',\n",
       " 'Start Menu',\n",
       " 'Templates',\n",
       " 'test',\n",
       " 'test.csv',\n",
       " 'test.json',\n",
       " 'test1.csv',\n",
       " 'test2.csv',\n",
       " 'test2.txt',\n",
       " 'test3.csv',\n",
       " 'test3.txt',\n",
       " 'test4.csv',\n",
       " 'test5.csv',\n",
       " 'text.txt',\n",
       " 'Untitled.ipynb',\n",
       " 'untitled.txt',\n",
       " 'Untitled1.ipynb',\n",
       " 'Untitled10.ipynb',\n",
       " 'Untitled11.ipynb',\n",
       " 'Untitled12.ipynb',\n",
       " 'Untitled13.ipynb',\n",
       " 'Untitled14.ipynb',\n",
       " 'Untitled15.ipynb',\n",
       " 'Untitled16.ipynb',\n",
       " 'Untitled17.ipynb',\n",
       " 'Untitled18.ipynb',\n",
       " 'Untitled19.ipynb',\n",
       " 'Untitled2.ipynb',\n",
       " 'Untitled20.ipynb',\n",
       " 'Untitled21.ipynb',\n",
       " 'Untitled22.ipynb',\n",
       " 'Untitled23.ipynb',\n",
       " 'Untitled24.ipynb',\n",
       " 'Untitled25.ipynb',\n",
       " 'Untitled26.ipynb',\n",
       " 'Untitled27-Copy1.ipynb',\n",
       " 'Untitled27.ipynb',\n",
       " 'Untitled28.ipynb',\n",
       " 'Untitled29.ipynb',\n",
       " 'Untitled3.ipynb',\n",
       " 'Untitled30.ipynb',\n",
       " 'Untitled31.ipynb',\n",
       " 'Untitled32.ipynb',\n",
       " 'Untitled33.ipynb',\n",
       " 'Untitled34.ipynb',\n",
       " 'Untitled35.ipynb',\n",
       " 'Untitled36.ipynb',\n",
       " 'Untitled37.ipynb',\n",
       " 'Untitled38.ipynb',\n",
       " 'Untitled39.ipynb',\n",
       " 'Untitled4.ipynb',\n",
       " 'Untitled40.ipynb',\n",
       " 'Untitled41.ipynb',\n",
       " 'Untitled42.ipynb',\n",
       " 'Untitled43.ipynb',\n",
       " 'Untitled44.ipynb',\n",
       " 'Untitled45.ipynb',\n",
       " 'Untitled46.ipynb',\n",
       " 'Untitled47.ipynb',\n",
       " 'Untitled48.ipynb',\n",
       " 'Untitled49.ipynb',\n",
       " 'Untitled5.ipynb',\n",
       " 'Untitled50.ipynb',\n",
       " 'Untitled51.ipynb',\n",
       " 'Untitled52.ipynb',\n",
       " 'Untitled53.ipynb',\n",
       " 'Untitled54.ipynb',\n",
       " 'Untitled55.ipynb',\n",
       " 'Untitled56.ipynb',\n",
       " 'Untitled57.ipynb',\n",
       " 'Untitled58.ipynb',\n",
       " 'Untitled59.ipynb',\n",
       " 'Untitled6.ipynb',\n",
       " 'Untitled60.ipynb',\n",
       " 'Untitled61.ipynb',\n",
       " 'Untitled62.ipynb',\n",
       " 'Untitled63.ipynb',\n",
       " 'Untitled64.ipynb',\n",
       " 'Untitled65.ipynb',\n",
       " 'Untitled7.ipynb',\n",
       " 'Untitled8.ipynb',\n",
       " 'Untitled9.ipynb',\n",
       " 'Videos',\n",
       " 'Web_scrappig.ipynb',\n",
       " 'Web_scrapping with python_crash course.ipynb',\n",
       " 'Web_Scrapping_selenium.ipynb',\n",
       " 'xml_count.ipynb',\n",
       " 'Xml_remover.ipynb',\n",
       " 'z.txt']"
      ]
     },
     "execution_count": 91,
     "metadata": {},
     "output_type": "execute_result"
    }
   ],
   "source": [
    "os.listdir()"
   ]
  },
  {
   "cell_type": "code",
   "execution_count": 96,
   "id": "f7d94dbe",
   "metadata": {},
   "outputs": [
    {
     "data": {
      "text/plain": [
       "['.bash_history',\n",
       " '.conda',\n",
       " '.condarc',\n",
       " '.continuum',\n",
       " '.git',\n",
       " '.gitconfig',\n",
       " '.ipynb_checkpoints',\n",
       " '.ipython',\n",
       " '.jupyter',\n",
       " '.keras',\n",
       " '.lesshst',\n",
       " '.matplotlib',\n",
       " '.popsql.json',\n",
       " '.python_history',\n",
       " '.spyder-py3',\n",
       " '.ssh',\n",
       " '.VirtualBox',\n",
       " '.vscode',\n",
       " '.wdm',\n",
       " '12-02-23_scrapping.ipynb',\n",
       " 'agent',\n",
       " 'akash.txt',\n",
       " 'Algo.ipynb',\n",
       " 'alkms.ipynb',\n",
       " 'anaconda3',\n",
       " 'AppData',\n",
       " 'Application Data',\n",
       " 'battery-report.html',\n",
       " 'Beautiful_soap.ipynb',\n",
       " 'Bounding_box.ipynb',\n",
       " 'c.txt',\n",
       " 'captcha.png',\n",
       " 'cbp-dashboard',\n",
       " 'cd',\n",
       " 'Contacts',\n",
       " 'Cookies',\n",
       " 'data.csv',\n",
       " 'dataset',\n",
       " 'Data_Manipulation.ipynb',\n",
       " 'Data_Preprocessing.ipynb',\n",
       " 'details.csv',\n",
       " 'Documents',\n",
       " 'Downloads',\n",
       " 'Draw_Bounding_box.ipynb',\n",
       " 'dsa.ipynb',\n",
       " 'Dsa_1.ipynb',\n",
       " 'Favorites',\n",
       " 'File_handling.ipynb',\n",
       " 'Geometric.ipynb',\n",
       " 'Geometric_Reasoning.ipynb',\n",
       " 'git',\n",
       " 'Google_bing_baidu.ipynb',\n",
       " 'icrambler.ipynb',\n",
       " 'iliyas.ipynb',\n",
       " 'images',\n",
       " 'Implementation_one_scrap.ipynb',\n",
       " 'Jedi',\n",
       " 'Linear_Algebra.ipynb',\n",
       " 'Links',\n",
       " 'Local Settings',\n",
       " 'microsoft.txt',\n",
       " 'modified.ipynb',\n",
       " 'modified_1.ipynb',\n",
       " 'mogili',\n",
       " 'Music',\n",
       " 'My Documents',\n",
       " 'myproject',\n",
       " 'NetHood',\n",
       " 'NTUSER.DAT',\n",
       " 'ntuser.dat.LOG1',\n",
       " 'ntuser.dat.LOG2',\n",
       " 'NTUSER.DAT{a2332f18-cdbf-11ec-8680-002248483d79}.TM.blf',\n",
       " 'NTUSER.DAT{a2332f18-cdbf-11ec-8680-002248483d79}.TMContainer00000000000000000001.regtrans-ms',\n",
       " 'NTUSER.DAT{a2332f18-cdbf-11ec-8680-002248483d79}.TMContainer00000000000000000002.regtrans-ms',\n",
       " 'ntuser.ini',\n",
       " 'OneDrive',\n",
       " 'OneDrive - Purecode Software',\n",
       " 'output_image.jpg',\n",
       " 'page_source',\n",
       " 'pandas.ipynb',\n",
       " 'Pictures',\n",
       " 'pract.ipynb',\n",
       " 'Pract_Session.ipynb',\n",
       " 'prime.py',\n",
       " 'PrintHood',\n",
       " 'project1',\n",
       " 'projectdemo',\n",
       " 'projects',\n",
       " 'Pytorch.ipynb',\n",
       " 'Recent',\n",
       " 'result2.csv',\n",
       " 'Saved Games',\n",
       " 'Searches',\n",
       " 'Selenium_Webscrapping.ipynb',\n",
       " 'SendTo',\n",
       " 'Start Menu',\n",
       " 'Templates',\n",
       " 'test',\n",
       " 'test.csv',\n",
       " 'test.json',\n",
       " 'test1.csv',\n",
       " 'test2.csv',\n",
       " 'test2.txt',\n",
       " 'test3.csv',\n",
       " 'test3.txt',\n",
       " 'test4.csv',\n",
       " 'test5.csv',\n",
       " 'text.txt',\n",
       " 'Untitled.ipynb',\n",
       " 'untitled.txt',\n",
       " 'Untitled1.ipynb',\n",
       " 'Untitled10.ipynb',\n",
       " 'Untitled11.ipynb',\n",
       " 'Untitled12.ipynb',\n",
       " 'Untitled13.ipynb',\n",
       " 'Untitled14.ipynb',\n",
       " 'Untitled15.ipynb',\n",
       " 'Untitled16.ipynb',\n",
       " 'Untitled17.ipynb',\n",
       " 'Untitled18.ipynb',\n",
       " 'Untitled19.ipynb',\n",
       " 'Untitled2.ipynb',\n",
       " 'Untitled20.ipynb',\n",
       " 'Untitled21.ipynb',\n",
       " 'Untitled22.ipynb',\n",
       " 'Untitled23.ipynb',\n",
       " 'Untitled24.ipynb',\n",
       " 'Untitled25.ipynb',\n",
       " 'Untitled26.ipynb',\n",
       " 'Untitled27-Copy1.ipynb',\n",
       " 'Untitled27.ipynb',\n",
       " 'Untitled28.ipynb',\n",
       " 'Untitled29.ipynb',\n",
       " 'Untitled3.ipynb',\n",
       " 'Untitled30.ipynb',\n",
       " 'Untitled31.ipynb',\n",
       " 'Untitled32.ipynb',\n",
       " 'Untitled33.ipynb',\n",
       " 'Untitled34.ipynb',\n",
       " 'Untitled35.ipynb',\n",
       " 'Untitled36.ipynb',\n",
       " 'Untitled37.ipynb',\n",
       " 'Untitled38.ipynb',\n",
       " 'Untitled39.ipynb',\n",
       " 'Untitled4.ipynb',\n",
       " 'Untitled40.ipynb',\n",
       " 'Untitled41.ipynb',\n",
       " 'Untitled42.ipynb',\n",
       " 'Untitled43.ipynb',\n",
       " 'Untitled44.ipynb',\n",
       " 'Untitled45.ipynb',\n",
       " 'Untitled46.ipynb',\n",
       " 'Untitled47.ipynb',\n",
       " 'Untitled48.ipynb',\n",
       " 'Untitled49.ipynb',\n",
       " 'Untitled5.ipynb',\n",
       " 'Untitled50.ipynb',\n",
       " 'Untitled51.ipynb',\n",
       " 'Untitled52.ipynb',\n",
       " 'Untitled53.ipynb',\n",
       " 'Untitled54.ipynb',\n",
       " 'Untitled55.ipynb',\n",
       " 'Untitled56.ipynb',\n",
       " 'Untitled57.ipynb',\n",
       " 'Untitled58.ipynb',\n",
       " 'Untitled59.ipynb',\n",
       " 'Untitled6.ipynb',\n",
       " 'Untitled60.ipynb',\n",
       " 'Untitled61.ipynb',\n",
       " 'Untitled62.ipynb',\n",
       " 'Untitled63.ipynb',\n",
       " 'Untitled64.ipynb',\n",
       " 'Untitled65.ipynb',\n",
       " 'Untitled7.ipynb',\n",
       " 'Untitled8.ipynb',\n",
       " 'Untitled9.ipynb',\n",
       " 'Videos',\n",
       " 'Web_scrappig.ipynb',\n",
       " 'Web_scrapping with python_crash course.ipynb',\n",
       " 'Web_Scrapping_selenium.ipynb',\n",
       " 'xml_count.ipynb',\n",
       " 'Xml_remover.ipynb',\n",
       " 'z.txt']"
      ]
     },
     "execution_count": 96,
     "metadata": {},
     "output_type": "execute_result"
    }
   ],
   "source": [
    "os.listdir()\n"
   ]
  },
  {
   "cell_type": "code",
   "execution_count": 99,
   "id": "a69363ce",
   "metadata": {},
   "outputs": [
    {
     "data": {
      "text/plain": [
       "'C:\\\\Users\\\\akash'"
      ]
     },
     "execution_count": 99,
     "metadata": {},
     "output_type": "execute_result"
    }
   ],
   "source": [
    "import os\n",
    "os.getcwd()"
   ]
  },
  {
   "cell_type": "code",
   "execution_count": null,
   "id": "2c7145e5",
   "metadata": {},
   "outputs": [],
   "source": []
  }
 ],
 "metadata": {
  "kernelspec": {
   "display_name": "Python 3 (ipykernel)",
   "language": "python",
   "name": "python3"
  },
  "language_info": {
   "codemirror_mode": {
    "name": "ipython",
    "version": 3
   },
   "file_extension": ".py",
   "mimetype": "text/x-python",
   "name": "python",
   "nbconvert_exporter": "python",
   "pygments_lexer": "ipython3",
   "version": "3.9.12"
  }
 },
 "nbformat": 4,
 "nbformat_minor": 5
}
